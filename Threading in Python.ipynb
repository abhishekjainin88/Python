{
 "cells": [
  {
   "cell_type": "markdown",
   "metadata": {},
   "source": [
    "## Threading in Python"
   ]
  },
  {
   "cell_type": "markdown",
   "metadata": {},
   "source": [
    "1) A thread is a separate flow of execution.\n",
    "2) Python 3 implementations the different threads do not actually execute at the same time: they merely appear to.\n",
    "3) This is due to interactions with the GIL that essentially limit one Python thread to run at a time.\n",
    "4) Tasks that spend much of their time waiting for external events are generally good candidates for threading. \n",
    "5) Getting multiple tasks running simultaneously requires a non-standard implementation of Python\n",
    "    a) writing some of your code in a different language.\n",
    "    b) using multiprocessing which comes with some extra overhead."
   ]
  },
  {
   "cell_type": "code",
   "execution_count": 2,
   "metadata": {
    "ExecuteTime": {
     "end_time": "2020-04-19T11:03:36.277742Z",
     "start_time": "2020-04-19T11:03:36.272742Z"
    }
   },
   "outputs": [],
   "source": [
    "import logging\n",
    "import threading\n",
    "import time"
   ]
  },
  {
   "cell_type": "code",
   "execution_count": null,
   "metadata": {
    "ExecuteTime": {
     "end_time": "2020-04-09T16:46:58.690479Z",
     "start_time": "2020-04-09T16:46:58.622378Z"
    }
   },
   "outputs": [],
   "source": [
    "\n",
    "def thread_function(name):\n",
    "    logging.info(\"Thread %s: starting\", name)\n",
    "    time.sleep(2)\n",
    "    logging.info(\"Thread %s: finishing\", name)\n",
    "\n",
    "if __name__ == \"__main__\":\n",
    "    format = \"%(asctime)s: %(message)s\"\n",
    "    logging.basicConfig(format=format, level=logging.INFO,\n",
    "                        datefmt=\"%H:%M:%S\")\n",
    "\n",
    "    logging.info(\"Main    : before creating thread\")\n",
    "    x = threading.Thread(target=thread_function, args=(1,))#,daemon=False)\n",
    "    logging.info(\"Main    : before running thread\")\n",
    "    x.start()\n",
    "    logging.info(\"Main    : wait for the thread to finish\")\n",
    "    #x.join()\n",
    "    logging.info(\"Main    : all done\")"
   ]
  },
  {
   "cell_type": "markdown",
   "metadata": {},
   "source": [
    "### Daemon Thread"
   ]
  },
  {
   "cell_type": "markdown",
   "metadata": {},
   "source": [
    "1) The daemon thread is a thread that runs in the background without worrying about shutting it down.\n",
    "2) If a program is running Threads that are not daemons, then the program will wait for those threads to complete before it        terminates.\n",
    "3) Threads that are daemons, however, are just killed wherever they are when the program is exiting"
   ]
  },
  {
   "cell_type": "markdown",
   "metadata": {},
   "source": [
    "### join() a Thread"
   ]
  },
  {
   "cell_type": "markdown",
   "metadata": {},
   "source": [
    "To tell one thread to wait for another thread to finish, you call .join()."
   ]
  },
  {
   "cell_type": "code",
   "execution_count": null,
   "metadata": {},
   "outputs": [],
   "source": [
    "Run above example uncommenting x.join() line."
   ]
  },
  {
   "cell_type": "markdown",
   "metadata": {},
   "source": [
    "### Multiple Thread"
   ]
  },
  {
   "cell_type": "code",
   "execution_count": null,
   "metadata": {
    "ExecuteTime": {
     "end_time": "2020-04-09T17:14:49.722832Z",
     "start_time": "2020-04-09T17:14:44.692155Z"
    }
   },
   "outputs": [],
   "source": [
    "\n",
    "def thread_function(name):\n",
    "    logging.info(\"Thread %s: starting\", name)\n",
    "    time.sleep(2)\n",
    "    logging.info(\"Thread %s: finishing\", name)\n",
    "\n",
    "if __name__ == \"__main__\":\n",
    "    format = \"%(asctime)s: %(message)s\"\n",
    "    logging.basicConfig(format=format, level=logging.INFO,\n",
    "                        datefmt=\"%H:%M:%S\")\n",
    "    \n",
    "    threads = list()\n",
    "    for index in range(200):\n",
    "        logging.info(\"Main    : before creating thread %d\",index)\n",
    "        x = threading.Thread(target=thread_function, args=(index,))#,daemon=False)\n",
    "        threads.append(x)\n",
    "        x.start()\n",
    "        \n",
    "    for index, thread in enumerate(threads):\n",
    "        logging.info(\"Main    : before joining thread %d.\", index)\n",
    "        thread.join()\n",
    "        logging.info(\"Main    : thread %d done\", index)    "
   ]
  },
  {
   "cell_type": "markdown",
   "metadata": {},
   "source": [
    "### ThreadPoolExecutor"
   ]
  },
  {
   "cell_type": "markdown",
   "metadata": {},
   "source": [
    "1) Easier way to start up a group of threads than the one you saw above.\n",
    "2) The order in which threads are run is determined by the operating system\n",
    "3) It may (and likely will) vary from run to run.\n",
    "4) The end of the with block causes the ThreadPoolExecutor to do a .join() on each of the threads in the pool. \n",
    "5) It is strongly recommended that you use ThreadPoolExecutor as a context manager when you can so that you never forget to        .join() the threads."
   ]
  },
  {
   "cell_type": "code",
   "execution_count": 3,
   "metadata": {
    "ExecuteTime": {
     "end_time": "2020-04-19T11:03:43.513038Z",
     "start_time": "2020-04-19T11:03:43.509038Z"
    }
   },
   "outputs": [],
   "source": [
    "import concurrent.futures"
   ]
  },
  {
   "cell_type": "code",
   "execution_count": null,
   "metadata": {
    "ExecuteTime": {
     "end_time": "2020-04-09T17:35:36.705366Z",
     "start_time": "2020-04-09T17:35:34.597833Z"
    }
   },
   "outputs": [],
   "source": [
    "def thread_function(name):\n",
    "    logging.info(\"Thread %s: starting\", name)\n",
    "    time.sleep(2)\n",
    "    logging.info(\"Thread %s: finishing\", name)\n",
    "\n",
    "if __name__ == \"__main__\":\n",
    "    \n",
    "    format = \"%(asctime)s: %(message)s\"\n",
    "    logging.basicConfig(format=format, level=logging.INFO,\n",
    "                        datefmt=\"%H:%M:%S\")\n",
    "    \n",
    "    with concurrent.futures.ThreadPoolExecutor(max_workers=3) as executor:\n",
    "        executor.map(thread_function, range(5))"
   ]
  },
  {
   "cell_type": "code",
   "execution_count": null,
   "metadata": {
    "ExecuteTime": {
     "end_time": "2020-04-09T17:27:13.076015Z",
     "start_time": "2020-04-09T17:27:13.060415Z"
    }
   },
   "outputs": [],
   "source": [
    "print(type(map(thread_function, range(3))))"
   ]
  },
  {
   "cell_type": "markdown",
   "metadata": {},
   "source": [
    "Note: Using a ThreadPoolExecutor can cause some confusing errors.\n",
    "\n",
    "For example, if you call a function that takes no parameters, but you pass it parameters in .map(), the thread will throw an exception.\n",
    "\n",
    "Unfortunately, ThreadPoolExecutor will hide that exception, and (in the case above) the program terminates with no output. This can be quite confusing to debug at first."
   ]
  },
  {
   "cell_type": "markdown",
   "metadata": {},
   "source": [
    "### Race condition"
   ]
  },
  {
   "cell_type": "markdown",
   "metadata": {},
   "source": [
    "Race conditions can occur when two or more threads access a shared piece of data or resource."
   ]
  },
  {
   "cell_type": "code",
   "execution_count": null,
   "metadata": {
    "ExecuteTime": {
     "end_time": "2020-04-19T09:01:43.533503Z",
     "start_time": "2020-04-19T09:01:43.513503Z"
    }
   },
   "outputs": [],
   "source": [
    "class Database:\n",
    "    \n",
    "    def __init__(self):\n",
    "        self.value = 0\n",
    "        \n",
    "    def changeValue(self,name):        \n",
    "        temp_val = self.value\n",
    "        logging.info(\"Thread %s: starting update\", name)\n",
    "        #print('Value before update %d', self.value)\n",
    "        temp_val = temp_val + 1\n",
    "        time.sleep(1)\n",
    "        self.value = temp_val\n",
    "        logging.info(\"Thread %s: finishing update\", name)\n",
    "        #print('Value after update %d', self.value)"
   ]
  },
  {
   "cell_type": "code",
   "execution_count": null,
   "metadata": {
    "ExecuteTime": {
     "end_time": "2020-04-19T09:01:47.271706Z",
     "start_time": "2020-04-19T09:01:46.204645Z"
    }
   },
   "outputs": [],
   "source": [
    "db = Database()\n",
    "format = \"%(asctime)s: %(message)s\"\n",
    "logging.basicConfig(format=format, level=logging.INFO,\n",
    "                        datefmt=\"%H:%M:%S\")\n",
    "logging.info(\"Testing update. Starting value is %d.\", db.value)\n",
    "with concurrent.futures.ThreadPoolExecutor(max_workers=2) as executor:\n",
    "    executor.map(db.changeValue, range(2))\n",
    "logging.info(\"Testing update. Ending value is %d.\", db.value)"
   ]
  },
  {
   "cell_type": "markdown",
   "metadata": {},
   "source": [
    "### Solve Race Condition"
   ]
  },
  {
   "cell_type": "markdown",
   "metadata": {},
   "source": [
    "#### Synchronization using lock"
   ]
  },
  {
   "cell_type": "markdown",
   "metadata": {},
   "source": [
    "1) Only one thread at a time can have the Lock.\n",
    "2) Any other thread that wants the Lock must wait until the owner of the Lock gives it up.\n",
    "3) The basic functions to do this are .acquire() and .release().\n",
    "4) If one thread gets the lock but never gives it back, your program will be stuck.\n"
   ]
  },
  {
   "cell_type": "code",
   "execution_count": null,
   "metadata": {
    "ExecuteTime": {
     "end_time": "2020-04-19T10:28:34.481974Z",
     "start_time": "2020-04-19T10:28:34.472974Z"
    }
   },
   "outputs": [],
   "source": [
    "class NewDatabase:\n",
    "    \n",
    "    def __init__(self):\n",
    "        self.value = 0\n",
    "        self.lock = threading.Lock()\n",
    "        \n",
    "        \n",
    "    def changeValue(self,name):\n",
    "        #self.lock.acquire(True)\n",
    "        logging.info(\"Thread %s has lock\", name)\n",
    "        temp_val = self.value\n",
    "        logging.info(\"Thread %s: starting update\", name)\n",
    "        #print('Value before update %d', self.value)\n",
    "        temp_val = temp_val + 1\n",
    "        time.sleep(3)\n",
    "        self.value = temp_val\n",
    "        logging.info(\"Thread %s about to release lock\", name)\n",
    "        #self.lock.release()\n",
    "        logging.info(\"Thread %s: finishing update\", name)\n",
    "        #print('Value after update %d', self.value)"
   ]
  },
  {
   "cell_type": "code",
   "execution_count": null,
   "metadata": {
    "ExecuteTime": {
     "end_time": "2020-04-19T10:28:39.507262Z",
     "start_time": "2020-04-19T10:28:36.408085Z"
    }
   },
   "outputs": [],
   "source": [
    "logging.getLogger().setLevel(logging.DEBUG)\n",
    "db = NewDatabase()\n",
    "format = \"%(asctime)s: %(message)s\"\n",
    "logging.basicConfig(format=format, level=logging.INFO,\n",
    "                        datefmt=\"%H:%M:%S\")\n",
    "logging.debug(\"Testing update. Starting value is %d.\", db.value)\n",
    "with concurrent.futures.ThreadPoolExecutor(max_workers=2) as executor:\n",
    "    executor.map(db.changeValue, range(2))    \n",
    "logging.debug(\"Testing update. Ending value is %d.\", db.value)"
   ]
  },
  {
   "cell_type": "code",
   "execution_count": null,
   "metadata": {
    "ExecuteTime": {
     "end_time": "2020-04-19T09:23:37.960912Z",
     "start_time": "2020-04-19T09:23:37.940912Z"
    }
   },
   "outputs": [],
   "source": [
    "help(threading.Lock())"
   ]
  },
  {
   "cell_type": "markdown",
   "metadata": {},
   "source": [
    "Below code not working due to change in with block"
   ]
  },
  {
   "cell_type": "code",
   "execution_count": null,
   "metadata": {
    "ExecuteTime": {
     "end_time": "2020-04-12T13:27:20.345588Z",
     "start_time": "2020-04-12T13:27:20.337588Z"
    }
   },
   "outputs": [],
   "source": [
    "class NewDatabase:\n",
    "    \n",
    "    def __init__(self):\n",
    "        self.value = 0\n",
    "        self.lock = threading.Lock()\n",
    "        \n",
    "        \n",
    "    def changeValue(self,name):\n",
    "        with self._lock:\n",
    "            logging.info(\"Thread %s has lock\", name)\n",
    "            temp_val = self.value\n",
    "            logging.info(\"Thread %s: starting update\", name)            \n",
    "            temp_val = temp_val + 1\n",
    "            time.sleep(1)\n",
    "            self.value = temp_val\n",
    "            logging.info(\"Thread %s about to release lock\", name)        \n",
    "        logging.info(\"Thread %s: finishing update\", name)\n",
    "        "
   ]
  },
  {
   "cell_type": "markdown",
   "metadata": {},
   "source": [
    "#### Deadlock while using Lock and its resolution using RLock (Re-entrant lock)"
   ]
  },
  {
   "cell_type": "markdown",
   "metadata": {},
   "source": [
    "Suppose a thread acquires a lock and it is not released and again we we try to access lock with same thread. This will result in deadlock.\n",
    "To avoid this situation we use RLock.\n",
    "With RLock same thread can aquire lock any no of times. Its just we need to release lock for each acquire.\n",
    "Other threads need to wait until this thread releases the resource again."
   ]
  },
  {
   "cell_type": "markdown",
   "metadata": {},
   "source": [
    "##### Usecases of RLock"
   ]
  },
  {
   "cell_type": "markdown",
   "metadata": {},
   "source": [
    "###### Recursion"
   ]
  },
  {
   "cell_type": "code",
   "execution_count": null,
   "metadata": {
    "ExecuteTime": {
     "end_time": "2020-04-12T18:25:29.231403Z",
     "start_time": "2020-04-12T18:25:29.206403Z"
    }
   },
   "outputs": [],
   "source": [
    "lock = threading.RLock()\n",
    "def a(...):\n",
    "     with lock:\n",
    "\n",
    "         a(...) # somewhere inside"
   ]
  },
  {
   "cell_type": "markdown",
   "metadata": {},
   "source": [
    "###### You want to have thread-safe access from outside the class and use the same methods from inside the class:"
   ]
  },
  {
   "cell_type": "code",
   "execution_count": null,
   "metadata": {
    "ExecuteTime": {
     "end_time": "2020-04-12T18:34:01.210456Z",
     "start_time": "2020-04-12T18:34:01.195456Z"
    }
   },
   "outputs": [],
   "source": [
    "class SomeClass:\n",
    "    def __init__(self):\n",
    "        self.a = 1\n",
    "        self.b = 2\n",
    "        self.lock = threading.RLock()\n",
    "\n",
    "    def changeA(self):\n",
    "        with self.lock:\n",
    "            self.a = self.a + 1\n",
    "\n",
    "    def changeB(self):\n",
    "        with self.lock:\n",
    "            self.b = self.b + self.a\n",
    "\n",
    "    def changeAandB(self):\n",
    "        # you can use chanceA and changeB thread-safe!\n",
    "        with self.lock:\n",
    "            self.changeA() # a usual lock would block at here\n",
    "            self.changeB()"
   ]
  },
  {
   "cell_type": "code",
   "execution_count": null,
   "metadata": {
    "ExecuteTime": {
     "end_time": "2020-04-12T18:34:07.360550Z",
     "start_time": "2020-04-12T18:34:07.343050Z"
    }
   },
   "outputs": [],
   "source": [
    "obj = SomeClass()\n",
    "obj.changeA()"
   ]
  },
  {
   "cell_type": "code",
   "execution_count": null,
   "metadata": {
    "ExecuteTime": {
     "end_time": "2020-04-12T18:34:08.318065Z",
     "start_time": "2020-04-12T18:34:08.303065Z"
    }
   },
   "outputs": [],
   "source": [
    "print(obj.a)\n",
    "print(obj.b)"
   ]
  },
  {
   "cell_type": "code",
   "execution_count": null,
   "metadata": {
    "ExecuteTime": {
     "end_time": "2020-04-12T18:34:13.328142Z",
     "start_time": "2020-04-12T18:34:13.310642Z"
    }
   },
   "outputs": [],
   "source": [
    "obj.changeB()"
   ]
  },
  {
   "cell_type": "code",
   "execution_count": null,
   "metadata": {
    "ExecuteTime": {
     "end_time": "2020-04-12T18:34:16.083184Z",
     "start_time": "2020-04-12T18:34:16.063184Z"
    }
   },
   "outputs": [],
   "source": [
    "print(obj.a)\n",
    "print(obj.b)"
   ]
  },
  {
   "cell_type": "code",
   "execution_count": null,
   "metadata": {
    "ExecuteTime": {
     "start_time": "2020-04-12T18:34:18.800Z"
    }
   },
   "outputs": [],
   "source": [
    "obj.changeAandB()"
   ]
  },
  {
   "cell_type": "code",
   "execution_count": null,
   "metadata": {
    "ExecuteTime": {
     "end_time": "2020-04-12T18:33:36.682579Z",
     "start_time": "2020-04-12T18:33:36.662579Z"
    }
   },
   "outputs": [],
   "source": [
    "print(obj.a)\n",
    "print(obj.b)"
   ]
  },
  {
   "cell_type": "markdown",
   "metadata": {},
   "source": [
    "#### Semaphore"
   ]
  },
  {
   "cell_type": "code",
   "execution_count": null,
   "metadata": {},
   "outputs": [],
   "source": [
    "It is another syncronozation technique.\n",
    "In this we can allow multiple thread to have an resource.\n",
    "It has internal counter _val which is decreased whenever acquire() is called and incremented whenever \n",
    "release() is called.\n",
    "when the _val becomes zero no other thread can enter until any thread calls release()\n",
    "We can call any no of release(). It can be more than acquire().\n"
   ]
  },
  {
   "cell_type": "code",
   "execution_count": null,
   "metadata": {
    "ExecuteTime": {
     "end_time": "2020-04-19T10:44:21.674631Z",
     "start_time": "2020-04-19T10:44:21.663630Z"
    }
   },
   "outputs": [],
   "source": [
    "class SemaphoreDatabase:\n",
    "    \n",
    "    def __init__(self):\n",
    "        self.value = 0\n",
    "        self.semaphore = threading.Semaphore(2)\n",
    "        \n",
    "    def changeValue(self,name):\n",
    "        self.semaphore.acquire()\n",
    "        logging.info(\"Thread %s has lock\", name)\n",
    "        temp_val = self.value\n",
    "        logging.info(\"Thread %s: starting update\", name)\n",
    "        #print('Value before update %d', self.value)\n",
    "        temp_val = temp_val + 1\n",
    "        time.sleep(3)\n",
    "        self.value = temp_val\n",
    "        logging.info(\"Thread %s about to release lock\", name)        \n",
    "        self.semaphore.release()\n",
    "        #self.semaphore.release()\n",
    "        logging.info(\"Thread %s: finishing update\", name)\n",
    "        #print('Value after update %d', self.value)"
   ]
  },
  {
   "cell_type": "code",
   "execution_count": null,
   "metadata": {
    "ExecuteTime": {
     "end_time": "2020-04-19T10:44:32.889087Z",
     "start_time": "2020-04-19T10:44:23.748730Z"
    }
   },
   "outputs": [],
   "source": [
    "logging.getLogger().setLevel(logging.DEBUG)\n",
    "db = SemaphoreDatabase()\n",
    "format = \"%(asctime)s: %(message)s\"\n",
    "logging.basicConfig(format=format, level=logging.INFO,\n",
    "                        datefmt=\"%H:%M:%S\")\n",
    "logging.debug(\"Testing update. Starting value is %d.\", db.value)\n",
    "with concurrent.futures.ThreadPoolExecutor(max_workers=5) as executor:\n",
    "    executor.map(db.changeValue, range(5))    \n",
    "logging.debug(\"Testing update. Ending value is %d.\", db.value)"
   ]
  },
  {
   "cell_type": "code",
   "execution_count": null,
   "metadata": {
    "ExecuteTime": {
     "end_time": "2020-04-19T09:39:27.764586Z",
     "start_time": "2020-04-19T09:39:27.676581Z"
    }
   },
   "outputs": [],
   "source": [
    "help(threading.Semaphore())"
   ]
  },
  {
   "cell_type": "markdown",
   "metadata": {},
   "source": [
    "#### Bounded Semaphore"
   ]
  },
  {
   "cell_type": "markdown",
   "metadata": {},
   "source": [
    "This is same as semaphore. The difference its just we can only call same no of release() which is equal to \n",
    "acquire().\n",
    "If we call more no of release() than acquire() then we will get error."
   ]
  },
  {
   "cell_type": "code",
   "execution_count": 25,
   "metadata": {
    "ExecuteTime": {
     "end_time": "2020-04-19T11:54:54.189865Z",
     "start_time": "2020-04-19T11:54:54.183865Z"
    }
   },
   "outputs": [],
   "source": [
    "class BundedSemaphoreDatabase:\n",
    "    \n",
    "    def __init__(self):\n",
    "        self.value = 0\n",
    "        #self.boundedSemaphore = threading.BoundedSemaphore(2)\n",
    "        \n",
    "    def changeValue(self,name):        \n",
    "        temp_val = self.value\n",
    "        logging.info(\"Thread %s: starting update\", name)\n",
    "        #print('Value before update %d', self.value)\n",
    "        temp_val = temp_val + 1\n",
    "        time.sleep(1)\n",
    "        self.value = temp_val        \n",
    "        logging.info(\"Thread %s: finishing update\", name)\n",
    "        #print('Value after update %d', self.value)"
   ]
  },
  {
   "cell_type": "code",
   "execution_count": 29,
   "metadata": {
    "ExecuteTime": {
     "end_time": "2020-04-19T11:55:52.309242Z",
     "start_time": "2020-04-19T11:55:52.222237Z"
    }
   },
   "outputs": [
    {
     "name": "stderr",
     "output_type": "stream",
     "text": [
      "17:25:52: Testing update. Starting value is 0.\n",
      "17:25:52: Thread 1: starting update\n",
      "17:25:52: Thread 2: starting update\n",
      "17:25:52: Thread 3: starting update\n",
      "17:25:52: Thread 4: starting update\n",
      "17:25:52: Testing update. Ending value is 0.\n",
      "17:25:52: Thread 5: starting update\n"
     ]
    }
   ],
   "source": [
    "logging.getLogger().setLevel(logging.DEBUG)\n",
    "db = BundedSemaphoreDatabase()\n",
    "format = \"%(asctime)s: %(message)s\"\n",
    "logging.basicConfig(format=format, level=logging.INFO,\n",
    "                        datefmt=\"%H:%M:%S\")\n",
    "logging.debug(\"Testing update. Starting value is %d.\", db.value)\n",
    "bounded_semaphor = threading.Semaphore(2)\n",
    "\n",
    "t1 = threading.Thread(target=db.changeValue,args=('1',))\n",
    "t2 = threading.Thread(target=db.changeValue,args=('2',))\n",
    "t3 = threading.Thread(target=db.changeValue,args=('3',))\n",
    "t4 = threading.Thread(target=db.changeValue,args=('4',))\n",
    "t5 = threading.Thread(target=db.changeValue,args=('5',))\n",
    "\n",
    "bounded_semaphor.acquire()\n",
    "bounded_semaphor.acquire()\n",
    "t1.start()\n",
    "t2.start()\n",
    "t3.start()\n",
    "bounded_semaphor.release()\n",
    "bounded_semaphor.release()\n",
    "bounded_semaphor.release()\n",
    "t4.start()\n",
    "t5.start()\n",
    "logging.debug(\"Testing update. Ending value is %d.\", db.value)"
   ]
  },
  {
   "cell_type": "code",
   "execution_count": null,
   "metadata": {
    "ExecuteTime": {
     "end_time": "2020-04-19T09:40:45.701044Z",
     "start_time": "2020-04-19T09:40:45.690043Z"
    }
   },
   "outputs": [],
   "source": [
    "help(threading.BoundedSemaphore())"
   ]
  },
  {
   "cell_type": "markdown",
   "metadata": {},
   "source": [
    "#### Barrier"
   ]
  },
  {
   "cell_type": "markdown",
   "metadata": {},
   "source": [
    "#### Timer"
   ]
  },
  {
   "cell_type": "markdown",
   "metadata": {},
   "source": [
    "A threading.Timer is a way to schedule a function to be called after a certain amount of time has passed.\n",
    "t = threading.Timer(30.0, my_function)\n",
    "You start the Timer by calling .start(). The function will be called on a new thread at some point after the specified time, but be aware that there is no promise that it will be called exactly at the time you want.\n",
    "If you want to stop a Timer that you’ve already started, you can cancel it by calling .cancel().\n",
    "Calling .cancel() after the Timer has triggered does nothing and does not produce an exception.\n",
    "A Timer can be used to prompt a user for action after a specific amount of time. If the user does the action before the Timer expires, .cancel() can be called."
   ]
  },
  {
   "cell_type": "code",
   "execution_count": null,
   "metadata": {
    "ExecuteTime": {
     "end_time": "2020-04-18T14:20:52.971221Z",
     "start_time": "2020-04-18T14:20:52.724215Z"
    }
   },
   "outputs": [],
   "source": [
    "help(threading.Lock())"
   ]
  },
  {
   "cell_type": "markdown",
   "metadata": {},
   "source": [
    "#### Events"
   ]
  },
  {
   "cell_type": "markdown",
   "metadata": {},
   "source": [
    "#### Conditions"
   ]
  },
  {
   "cell_type": "code",
   "execution_count": null,
   "metadata": {},
   "outputs": [],
   "source": []
  }
 ],
 "metadata": {
  "kernelspec": {
   "display_name": "Python 3",
   "language": "python",
   "name": "python3"
  },
  "language_info": {
   "codemirror_mode": {
    "name": "ipython",
    "version": 3
   },
   "file_extension": ".py",
   "mimetype": "text/x-python",
   "name": "python",
   "nbconvert_exporter": "python",
   "pygments_lexer": "ipython3",
   "version": "3.8.8"
  },
  "toc": {
   "base_numbering": 1,
   "nav_menu": {},
   "number_sections": true,
   "sideBar": true,
   "skip_h1_title": false,
   "title_cell": "Table of Contents",
   "title_sidebar": "Contents",
   "toc_cell": false,
   "toc_position": {},
   "toc_section_display": true,
   "toc_window_display": true
  },
  "varInspector": {
   "cols": {
    "lenName": 16,
    "lenType": 16,
    "lenVar": 40
   },
   "kernels_config": {
    "python": {
     "delete_cmd_postfix": "",
     "delete_cmd_prefix": "del ",
     "library": "var_list.py",
     "varRefreshCmd": "print(var_dic_list())"
    },
    "r": {
     "delete_cmd_postfix": ") ",
     "delete_cmd_prefix": "rm(",
     "library": "var_list.r",
     "varRefreshCmd": "cat(var_dic_list()) "
    }
   },
   "types_to_exclude": [
    "module",
    "function",
    "builtin_function_or_method",
    "instance",
    "_Feature"
   ],
   "window_display": false
  }
 },
 "nbformat": 4,
 "nbformat_minor": 2
}
