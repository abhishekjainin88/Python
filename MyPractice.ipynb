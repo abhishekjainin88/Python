{
 "cells": [
  {
   "cell_type": "markdown",
   "metadata": {},
   "source": [
    "# List"
   ]
  },
  {
   "cell_type": "markdown",
   "metadata": {},
   "source": [
    "### Basic List"
   ]
  },
  {
   "cell_type": "code",
   "execution_count": 1,
   "metadata": {
    "ExecuteTime": {
     "end_time": "2020-03-15T07:02:27.628618Z",
     "start_time": "2020-03-15T07:02:27.620615Z"
    }
   },
   "outputs": [
    {
     "name": "stdout",
     "output_type": "stream",
     "text": [
      "['English', 'Hindi', 'French', 'German']\n"
     ]
    }
   ],
   "source": [
    "mylist = ['English','Hindi','French','German']\n",
    "print(mylist)"
   ]
  },
  {
   "cell_type": "code",
   "execution_count": null,
   "metadata": {},
   "outputs": [],
   "source": [
    "mylist[1]"
   ]
  },
  {
   "cell_type": "code",
   "execution_count": null,
   "metadata": {},
   "outputs": [],
   "source": [
    "mylist[-1]"
   ]
  },
  {
   "cell_type": "code",
   "execution_count": null,
   "metadata": {},
   "outputs": [],
   "source": [
    "type(mylist)"
   ]
  },
  {
   "cell_type": "markdown",
   "metadata": {},
   "source": [
    "### List Slicing"
   ]
  },
  {
   "cell_type": "code",
   "execution_count": null,
   "metadata": {},
   "outputs": [],
   "source": [
    "print(mylist[0:2])\n",
    "print(mylist[0:-1])\n",
    "print(mylist[::2])"
   ]
  },
  {
   "cell_type": "code",
   "execution_count": null,
   "metadata": {},
   "outputs": [],
   "source": [
    "mylist[-1]"
   ]
  },
  {
   "cell_type": "code",
   "execution_count": null,
   "metadata": {},
   "outputs": [],
   "source": [
    "mylist[len(mylist)::-1]\n"
   ]
  },
  {
   "cell_type": "markdown",
   "metadata": {},
   "source": [
    "### List Functions"
   ]
  },
  {
   "cell_type": "code",
   "execution_count": null,
   "metadata": {},
   "outputs": [],
   "source": [
    "len(mylist)"
   ]
  },
  {
   "cell_type": "code",
   "execution_count": null,
   "metadata": {},
   "outputs": [],
   "source": [
    "mylist.append('Marathi')\n",
    "mylist.append('Hindi')\n",
    "print(mylist)"
   ]
  },
  {
   "cell_type": "code",
   "execution_count": null,
   "metadata": {},
   "outputs": [],
   "source": [
    "mylist.insert(2, 'Gujrati')\n",
    "print(mylist)"
   ]
  },
  {
   "cell_type": "code",
   "execution_count": null,
   "metadata": {},
   "outputs": [],
   "source": [
    "mylist.count('Hindi')"
   ]
  },
  {
   "cell_type": "code",
   "execution_count": null,
   "metadata": {},
   "outputs": [],
   "source": [
    "mylist.remove('Gujrati')\n",
    "print(mylist)"
   ]
  },
  {
   "cell_type": "code",
   "execution_count": null,
   "metadata": {},
   "outputs": [],
   "source": [
    "mylist.pop()\n",
    "print(mylist)"
   ]
  },
  {
   "cell_type": "code",
   "execution_count": null,
   "metadata": {},
   "outputs": [],
   "source": [
    "mylist.reverse()\n",
    "print(mylist)"
   ]
  },
  {
   "cell_type": "code",
   "execution_count": null,
   "metadata": {},
   "outputs": [],
   "source": [
    "mylist.extend('Itallic')\n",
    "print(mylist)"
   ]
  },
  {
   "cell_type": "code",
   "execution_count": null,
   "metadata": {},
   "outputs": [],
   "source": [
    "print(mylist)"
   ]
  },
  {
   "cell_type": "code",
   "execution_count": 13,
   "metadata": {
    "ExecuteTime": {
     "end_time": "2020-03-15T07:27:32.334614Z",
     "start_time": "2020-03-15T07:27:32.326613Z"
    },
    "cell_style": "center"
   },
   "outputs": [
    {
     "name": "stdout",
     "output_type": "stream",
     "text": [
      "['Ankush', 'Sachin', 'Abhishek']\n",
      "['English', 'Hindi', 'Marathi', 'German', 'Ankush', 'Sachin', 'Abhishek', ['Ankush', 'Sachin', 'Abhishek'], 's', 'a', 'c', 'h', 'i', 'n', 'Ankush', 'Sachin', 'Abhishek']\n",
      "['English', 'Hindi', 'Marathi', 'German', 'Ankush', 'Sachin', 'Abhishek', ['Ankush', 'Sachin', 'Abhishek'], 's', 'a', 'c', 'h', 'i', 'n', 'Ankush', 'Sachin', 'Abhishek', ['Ankush', 'Sachin', 'Abhishek']]\n",
      "['English', 'Hindi', 'Marathi', 'German', 'Ankush', 'Sachin', 'Abhishek', ['Ankush', 'Sachin', 'Abhishek'], 's', 'a', 'c', 'h', 'i', 'n', 'Ankush', 'Sachin', 'Abhishek', ['Ankush', 'Sachin', 'Abhishek'], 's', 'a', 'c', 'h', 'i', 'n']\n",
      "24\n",
      "h\n"
     ]
    }
   ],
   "source": [
    "List2 = ['Ankush','Sachin', 'Abhishek']\n",
    "print(List2)\n",
    "\n",
    "mylist.extend(List2)\n",
    "print(mylist)\n",
    "\n",
    "ls.append(List2)\n",
    "print(ls)\n",
    "\n",
    "ls.extend('sachin')\n",
    "print(ls)\n",
    "\n",
    "print(len(ls))\n",
    "print(ls[7][1][3])\n"
   ]
  },
  {
   "cell_type": "markdown",
   "metadata": {},
   "source": [
    "### List Copy"
   ]
  },
  {
   "cell_type": "code",
   "execution_count": 4,
   "metadata": {
    "ExecuteTime": {
     "end_time": "2020-03-15T07:06:35.700962Z",
     "start_time": "2020-03-15T07:06:35.692962Z"
    }
   },
   "outputs": [
    {
     "name": "stdout",
     "output_type": "stream",
     "text": [
      "mylist :  ['English', 'Hindi', 'French', 'German']\n",
      "ls :  ['English', 'Hindi', 'French', 'German']\n",
      "Address of ls :  2422306996296\n",
      "Address of mylist :  2422306996296\n"
     ]
    }
   ],
   "source": [
    "ls=mylist\n",
    "print(\"mylist : \", mylist)\n",
    "print(\"ls : \", ls)\n",
    "print(\"Address of ls : \", id(ls))\n",
    "print(\"Address of mylist : \", id(mylist))"
   ]
  },
  {
   "cell_type": "code",
   "execution_count": 6,
   "metadata": {
    "ExecuteTime": {
     "end_time": "2020-03-15T07:08:44.040118Z",
     "start_time": "2020-03-15T07:08:44.032077Z"
    }
   },
   "outputs": [
    {
     "name": "stdout",
     "output_type": "stream",
     "text": [
      "mylist :  ['English', 'Hindi', 'Marathi', 'German']\n",
      "ls :  ['English', 'Hindi', 'Marathi', 'German']\n"
     ]
    }
   ],
   "source": [
    "ls[2] = \"Marathi\"\n",
    "print(\"mylist : \", mylist)\n",
    "print(\"ls : \", ls)"
   ]
  },
  {
   "cell_type": "code",
   "execution_count": 7,
   "metadata": {
    "ExecuteTime": {
     "end_time": "2020-03-15T07:10:26.703110Z",
     "start_time": "2020-03-15T07:10:26.695107Z"
    }
   },
   "outputs": [
    {
     "name": "stdout",
     "output_type": "stream",
     "text": [
      "Address of mylist :  2422306996296\n",
      "Address of listcopy :  2422321952456\n"
     ]
    }
   ],
   "source": [
    "listcopy = mylist.copy()\n",
    "print(\"Address of mylist : \", id(mylist))\n",
    "print(\"Address of listcopy : \", id(listcopy))"
   ]
  },
  {
   "cell_type": "code",
   "execution_count": 8,
   "metadata": {
    "ExecuteTime": {
     "end_time": "2020-03-15T07:12:04.852102Z",
     "start_time": "2020-03-15T07:12:04.832361Z"
    }
   },
   "outputs": [
    {
     "name": "stdout",
     "output_type": "stream",
     "text": [
      "mylist :  ['English', 'Hindi', 'Marathi', 'German']\n",
      "listcopy :  ['English', 'Hindi', 'Pune', 'German']\n"
     ]
    }
   ],
   "source": [
    "listcopy[2] = \"Pune\"\n",
    "print(\"mylist : \", mylist)\n",
    "print(\"listcopy : \", listcopy)"
   ]
  },
  {
   "cell_type": "markdown",
   "metadata": {},
   "source": [
    "### Sum of Each Element in List"
   ]
  },
  {
   "cell_type": "code",
   "execution_count": 11,
   "metadata": {
    "ExecuteTime": {
     "end_time": "2020-03-15T07:26:21.421405Z",
     "start_time": "2020-03-15T07:26:21.413406Z"
    }
   },
   "outputs": [
    {
     "name": "stdout",
     "output_type": "stream",
     "text": [
      "134\n",
      "15\n"
     ]
    }
   ],
   "source": [
    "numlist = [12,25,3,85,9]\n",
    "print(sum(numlist))\n",
    "print(sum([1,2,3,4,5]))"
   ]
  },
  {
   "cell_type": "code",
   "execution_count": 70,
   "metadata": {
    "ExecuteTime": {
     "end_time": "2020-03-15T10:14:27.862957Z",
     "start_time": "2020-03-15T10:14:27.852946Z"
    }
   },
   "outputs": [
    {
     "ename": "TypeError",
     "evalue": "unsupported operand type(s) for +: 'int' and 'str'",
     "output_type": "error",
     "traceback": [
      "\u001b[1;31m---------------------------------------------------------------------------\u001b[0m",
      "\u001b[1;31mTypeError\u001b[0m                                 Traceback (most recent call last)",
      "\u001b[1;32m<ipython-input-70-567439274e5a>\u001b[0m in \u001b[0;36m<module>\u001b[1;34m\u001b[0m\n\u001b[1;32m----> 1\u001b[1;33m \u001b[0mprint\u001b[0m\u001b[1;33m(\u001b[0m\u001b[0msum\u001b[0m\u001b[1;33m(\u001b[0m\u001b[1;34m\"Rahul Bhaiya\"\u001b[0m\u001b[1;33m)\u001b[0m\u001b[1;33m)\u001b[0m\u001b[1;33m\u001b[0m\u001b[1;33m\u001b[0m\u001b[0m\n\u001b[0m",
      "\u001b[1;31mTypeError\u001b[0m: unsupported operand type(s) for +: 'int' and 'str'"
     ]
    }
   ],
   "source": [
    "print(sum(\"Rahul Bhaiya\"))"
   ]
  },
  {
   "cell_type": "code",
   "execution_count": 69,
   "metadata": {
    "ExecuteTime": {
     "end_time": "2020-03-15T10:14:12.101772Z",
     "start_time": "2020-03-15T10:14:12.078836Z"
    }
   },
   "outputs": [
    {
     "name": "stdout",
     "output_type": "stream",
     "text": [
      "['Ankush', 'Sachin', 'Abhishek']\n"
     ]
    },
    {
     "ename": "TypeError",
     "evalue": "unsupported operand type(s) for +: 'int' and 'str'",
     "output_type": "error",
     "traceback": [
      "\u001b[1;31m---------------------------------------------------------------------------\u001b[0m",
      "\u001b[1;31mTypeError\u001b[0m                                 Traceback (most recent call last)",
      "\u001b[1;32m<ipython-input-69-0a97ff8bdd15>\u001b[0m in \u001b[0;36m<module>\u001b[1;34m\u001b[0m\n\u001b[0;32m      1\u001b[0m \u001b[0mprint\u001b[0m\u001b[1;33m(\u001b[0m\u001b[0mList2\u001b[0m\u001b[1;33m)\u001b[0m\u001b[1;33m\u001b[0m\u001b[1;33m\u001b[0m\u001b[0m\n\u001b[1;32m----> 2\u001b[1;33m \u001b[0mprint\u001b[0m\u001b[1;33m(\u001b[0m\u001b[0msum\u001b[0m\u001b[1;33m(\u001b[0m\u001b[0mList2\u001b[0m\u001b[1;33m)\u001b[0m\u001b[1;33m)\u001b[0m\u001b[1;33m\u001b[0m\u001b[1;33m\u001b[0m\u001b[0m\n\u001b[0m\u001b[0;32m      3\u001b[0m \u001b[0mprint\u001b[0m\u001b[1;33m(\u001b[0m\u001b[0msum\u001b[0m\u001b[1;33m(\u001b[0m\u001b[1;34m\"Rahul Bhaiya\"\u001b[0m\u001b[1;33m)\u001b[0m\u001b[1;33m)\u001b[0m\u001b[1;33m\u001b[0m\u001b[1;33m\u001b[0m\u001b[0m\n",
      "\u001b[1;31mTypeError\u001b[0m: unsupported operand type(s) for +: 'int' and 'str'"
     ]
    }
   ],
   "source": [
    "print(List2)\n",
    "print(sum(List2))"
   ]
  },
  {
   "cell_type": "markdown",
   "metadata": {},
   "source": [
    "### 2d List"
   ]
  },
  {
   "cell_type": "code",
   "execution_count": null,
   "metadata": {
    "ExecuteTime": {
     "end_time": "2020-03-14T09:13:16.184556Z",
     "start_time": "2020-03-14T09:13:16.178573Z"
    }
   },
   "outputs": [],
   "source": [
    "list2d = [['Ankush',29],['sachin',33],['Abhishek',31]]\n",
    "print(list2d)"
   ]
  },
  {
   "cell_type": "code",
   "execution_count": null,
   "metadata": {
    "ExecuteTime": {
     "end_time": "2020-03-14T09:14:08.867712Z",
     "start_time": "2020-03-14T09:14:08.863722Z"
    }
   },
   "outputs": [],
   "source": [
    "print(list2d[0])\n",
    "print(list2d[1][0])\n",
    "print(list2d[2][0][3])"
   ]
  },
  {
   "cell_type": "code",
   "execution_count": null,
   "metadata": {},
   "outputs": [],
   "source": [
    "list2d[1].append('Gwalior')\n",
    "print(list2d)"
   ]
  },
  {
   "cell_type": "code",
   "execution_count": null,
   "metadata": {},
   "outputs": [],
   "source": []
  },
  {
   "cell_type": "markdown",
   "metadata": {},
   "source": [
    "# Tuple"
   ]
  },
  {
   "cell_type": "markdown",
   "metadata": {},
   "source": [
    "### Basic Tuple"
   ]
  },
  {
   "cell_type": "code",
   "execution_count": 1,
   "metadata": {
    "ExecuteTime": {
     "end_time": "2020-03-14T09:20:33.043401Z",
     "start_time": "2020-03-14T09:20:33.037461Z"
    }
   },
   "outputs": [
    {
     "name": "stdout",
     "output_type": "stream",
     "text": [
      "('English', 'Hindi', 'French', 'German')\n"
     ]
    }
   ],
   "source": [
    "mytuple = ('English','Hindi','French','German')\n",
    "print(mytuple)"
   ]
  },
  {
   "cell_type": "code",
   "execution_count": null,
   "metadata": {
    "ExecuteTime": {
     "end_time": "2020-03-14T09:15:07.701926Z",
     "start_time": "2020-03-14T09:15:07.686258Z"
    }
   },
   "outputs": [],
   "source": [
    "print(mytuple[2])\n",
    "print(mytuple[-1])"
   ]
  },
  {
   "cell_type": "code",
   "execution_count": null,
   "metadata": {
    "ExecuteTime": {
     "end_time": "2020-03-14T09:15:09.611026Z",
     "start_time": "2020-03-14T09:15:09.599023Z"
    }
   },
   "outputs": [],
   "source": [
    "mytuple[1] = 'Hindi'\n"
   ]
  },
  {
   "cell_type": "code",
   "execution_count": 2,
   "metadata": {
    "ExecuteTime": {
     "end_time": "2020-03-14T09:20:38.485546Z",
     "start_time": "2020-03-14T09:20:38.480561Z"
    }
   },
   "outputs": [],
   "source": [
    "tp=(1,2,3)"
   ]
  },
  {
   "cell_type": "code",
   "execution_count": 5,
   "metadata": {
    "ExecuteTime": {
     "end_time": "2020-03-14T09:21:32.847857Z",
     "start_time": "2020-03-14T09:21:32.842870Z"
    }
   },
   "outputs": [],
   "source": [
    "newtuple = mytuple.__add__(tp)"
   ]
  },
  {
   "cell_type": "code",
   "execution_count": 4,
   "metadata": {
    "ExecuteTime": {
     "end_time": "2020-03-14T09:20:58.300833Z",
     "start_time": "2020-03-14T09:20:58.295846Z"
    }
   },
   "outputs": [
    {
     "data": {
      "text/plain": [
       "('English', 'Hindi', 'French', 'German')"
      ]
     },
     "execution_count": 4,
     "metadata": {},
     "output_type": "execute_result"
    }
   ],
   "source": [
    "mytuple"
   ]
  },
  {
   "cell_type": "code",
   "execution_count": 6,
   "metadata": {
    "ExecuteTime": {
     "end_time": "2020-03-14T09:21:48.290573Z",
     "start_time": "2020-03-14T09:21:48.274910Z"
    }
   },
   "outputs": [
    {
     "data": {
      "text/plain": [
       "('English', 'Hindi', 'French', 'German', 1, 2, 3)"
      ]
     },
     "execution_count": 6,
     "metadata": {},
     "output_type": "execute_result"
    }
   ],
   "source": [
    "newtuple"
   ]
  },
  {
   "cell_type": "markdown",
   "metadata": {},
   "source": [
    "### Tuple Slicing"
   ]
  },
  {
   "cell_type": "code",
   "execution_count": null,
   "metadata": {},
   "outputs": [],
   "source": [
    "print(mytuple[::])\n",
    "print(mytuple[0:2:])\n",
    "print(mytuple[0:-1])\n",
    "print(mytuple[::2])"
   ]
  },
  {
   "cell_type": "code",
   "execution_count": null,
   "metadata": {},
   "outputs": [],
   "source": [
    "print(mytuple[-1::-1])\n",
    "print(mytuple[-1::-2])"
   ]
  },
  {
   "cell_type": "markdown",
   "metadata": {},
   "source": [
    "### Tuple Functions"
   ]
  },
  {
   "cell_type": "code",
   "execution_count": null,
   "metadata": {},
   "outputs": [],
   "source": [
    "Tuple2 = (5,8,3,4,9,2)\n",
    "print(Tuple2)"
   ]
  },
  {
   "cell_type": "code",
   "execution_count": null,
   "metadata": {},
   "outputs": [],
   "source": [
    "print(len(mytuple))\n",
    "print(len(Tuple2))"
   ]
  },
  {
   "cell_type": "code",
   "execution_count": null,
   "metadata": {},
   "outputs": [],
   "source": [
    "mytuple.index('French')"
   ]
  },
  {
   "cell_type": "code",
   "execution_count": null,
   "metadata": {},
   "outputs": [],
   "source": [
    "mytuple.count('Hindi')"
   ]
  },
  {
   "cell_type": "markdown",
   "metadata": {},
   "source": [
    "### 2d Tuple"
   ]
  },
  {
   "cell_type": "code",
   "execution_count": null,
   "metadata": {
    "ExecuteTime": {
     "end_time": "2020-03-14T08:45:31.429871Z",
     "start_time": "2020-03-14T08:45:31.421870Z"
    }
   },
   "outputs": [],
   "source": [
    "tuple2d = (('Ankush', 28),('Abhishek',31),('Sachin',33))\n",
    "print(tuple2d)"
   ]
  },
  {
   "cell_type": "code",
   "execution_count": null,
   "metadata": {
    "ExecuteTime": {
     "end_time": "2020-03-14T08:50:33.031309Z",
     "start_time": "2020-03-14T08:50:33.027309Z"
    }
   },
   "outputs": [],
   "source": [
    "print(tuple2d[1])\n",
    "print(tuple2d[0][1])\n",
    "print(tuple2d[2][0][2])"
   ]
  },
  {
   "cell_type": "code",
   "execution_count": 7,
   "metadata": {
    "ExecuteTime": {
     "end_time": "2020-03-14T10:40:28.790836Z",
     "start_time": "2020-03-14T10:40:28.773881Z"
    }
   },
   "outputs": [
    {
     "data": {
      "text/plain": [
       "(('Ankush', 28), ('Abhishek', 31, 'Pune'), ('Sachin', 33))"
      ]
     },
     "execution_count": 7,
     "metadata": {},
     "output_type": "execute_result"
    }
   ],
   "source": [
    "tuple2d2 = (('Ankush', 28),('Abhishek',31,'Pune'),('Sachin',33))\n",
    "tuple2d2"
   ]
  },
  {
   "cell_type": "markdown",
   "metadata": {},
   "source": [
    "# Important Jupyter extension commands"
   ]
  },
  {
   "cell_type": "markdown",
   "metadata": {},
   "source": [
    "!pip install jupyter_contrib_nbextensions"
   ]
  },
  {
   "cell_type": "markdown",
   "metadata": {},
   "source": [
    "!jupyter contrib nbextension install --user"
   ]
  },
  {
   "cell_type": "markdown",
   "metadata": {},
   "source": [
    "# Dictionary"
   ]
  },
  {
   "cell_type": "markdown",
   "metadata": {},
   "source": [
    "### Basic Dictionary"
   ]
  },
  {
   "cell_type": "code",
   "execution_count": null,
   "metadata": {},
   "outputs": [],
   "source": []
  },
  {
   "cell_type": "code",
   "execution_count": null,
   "metadata": {},
   "outputs": [],
   "source": []
  },
  {
   "cell_type": "code",
   "execution_count": null,
   "metadata": {},
   "outputs": [],
   "source": []
  },
  {
   "cell_type": "code",
   "execution_count": null,
   "metadata": {},
   "outputs": [],
   "source": []
  },
  {
   "cell_type": "markdown",
   "metadata": {},
   "source": [
    "# Set"
   ]
  },
  {
   "cell_type": "markdown",
   "metadata": {},
   "source": [
    "### Basic Set"
   ]
  },
  {
   "cell_type": "code",
   "execution_count": null,
   "metadata": {},
   "outputs": [],
   "source": []
  },
  {
   "cell_type": "code",
   "execution_count": null,
   "metadata": {},
   "outputs": [],
   "source": []
  },
  {
   "cell_type": "code",
   "execution_count": null,
   "metadata": {},
   "outputs": [],
   "source": []
  },
  {
   "cell_type": "markdown",
   "metadata": {},
   "source": [
    "# Membership Operator"
   ]
  },
  {
   "cell_type": "code",
   "execution_count": null,
   "metadata": {},
   "outputs": [],
   "source": []
  },
  {
   "cell_type": "code",
   "execution_count": null,
   "metadata": {},
   "outputs": [],
   "source": []
  },
  {
   "cell_type": "markdown",
   "metadata": {},
   "source": [
    "# Identity Operator"
   ]
  },
  {
   "cell_type": "code",
   "execution_count": null,
   "metadata": {},
   "outputs": [],
   "source": []
  },
  {
   "cell_type": "code",
   "execution_count": null,
   "metadata": {},
   "outputs": [],
   "source": []
  },
  {
   "cell_type": "code",
   "execution_count": null,
   "metadata": {},
   "outputs": [],
   "source": []
  },
  {
   "cell_type": "markdown",
   "metadata": {},
   "source": [
    "# Function"
   ]
  },
  {
   "cell_type": "markdown",
   "metadata": {},
   "source": [
    "### Basic Function"
   ]
  },
  {
   "cell_type": "code",
   "execution_count": 21,
   "metadata": {
    "ExecuteTime": {
     "end_time": "2020-03-15T07:35:02.085278Z",
     "start_time": "2020-03-15T07:35:02.077239Z"
    }
   },
   "outputs": [
    {
     "name": "stdout",
     "output_type": "stream",
     "text": [
      "In func1...\n",
      "a :  None\n"
     ]
    }
   ],
   "source": [
    "def func1():\n",
    "    print(\"In func1...\")\n",
    "    \n",
    "#### main()\n",
    "a = func1()\n",
    "print(\"a : \", a)"
   ]
  },
  {
   "cell_type": "markdown",
   "metadata": {},
   "source": [
    "### Function with Parameter"
   ]
  },
  {
   "cell_type": "code",
   "execution_count": 25,
   "metadata": {
    "ExecuteTime": {
     "end_time": "2020-03-15T07:39:58.862724Z",
     "start_time": "2020-03-15T07:39:58.854684Z"
    }
   },
   "outputs": [
    {
     "name": "stdout",
     "output_type": "stream",
     "text": [
      "[1, 2, 3, 4]\n"
     ]
    }
   ],
   "source": [
    "def func2(x):\n",
    "    x.append(4)\n",
    "    return x\n",
    "\n",
    "# main()\n",
    "#x = [1,2,3]\n",
    "#y = func2(x)\n",
    "y = func2([1,2,3])\n",
    "print(y)"
   ]
  },
  {
   "cell_type": "markdown",
   "metadata": {},
   "source": [
    "### Default Argument"
   ]
  },
  {
   "cell_type": "code",
   "execution_count": null,
   "metadata": {},
   "outputs": [],
   "source": []
  },
  {
   "cell_type": "code",
   "execution_count": 68,
   "metadata": {
    "ExecuteTime": {
     "end_time": "2020-03-15T10:10:29.718248Z",
     "start_time": "2020-03-15T10:10:29.710229Z"
    }
   },
   "outputs": [
    {
     "ename": "SyntaxError",
     "evalue": "non-default argument follows default argument (<ipython-input-68-5f0cadb3db68>, line 1)",
     "output_type": "error",
     "traceback": [
      "\u001b[1;36m  File \u001b[1;32m\"<ipython-input-68-5f0cadb3db68>\"\u001b[1;36m, line \u001b[1;32m1\u001b[0m\n\u001b[1;33m    def func3(a, b=20, c):\u001b[0m\n\u001b[1;37m             ^\u001b[0m\n\u001b[1;31mSyntaxError\u001b[0m\u001b[1;31m:\u001b[0m non-default argument follows default argument\n"
     ]
    }
   ],
   "source": [
    "def func3(a, b=20):\n",
    "    print(a, b)\n",
    "\n",
    "# main()\n",
    "func3(10)\n",
    "func3(10, 30)\n",
    "func3(a=50, b=40)"
   ]
  },
  {
   "cell_type": "markdown",
   "metadata": {},
   "source": [
    "### N Unnamed Argument"
   ]
  },
  {
   "cell_type": "code",
   "execution_count": 71,
   "metadata": {
    "ExecuteTime": {
     "end_time": "2020-03-15T10:17:12.045573Z",
     "start_time": "2020-03-15T10:17:12.039553Z"
    }
   },
   "outputs": [
    {
     "name": "stdout",
     "output_type": "stream",
     "text": [
      "n :  (1, 3, -7, 9)\n",
      "Minimum value is : -7\n",
      "n :  ()\n",
      "KWargs :  {'a': 1, 'b': 42}\n",
      "KWargs :  {'a': 10, 'b': 420}\n",
      "KWargs :  {'a': 100, 'b': 4200}\n"
     ]
    }
   ],
   "source": [
    "\n",
    "g#Unnamed Parameter in function\n",
    "\n",
    "def Minimum(*n):\n",
    "    print('n : ', n)\n",
    "\n",
    "    if n:\n",
    "        myn = n[0]\n",
    "\n",
    "        for value in n[1:]:\n",
    "            if value < myn:\n",
    "                myn = value\n",
    "\n",
    "        print('Minimum value is :', myn)\n",
    "\n",
    "def func(**kwargs):\n",
    "    print('KWargs : ', kwargs)\n",
    "\n",
    "\n",
    "###########################################################\n",
    "\n",
    "Minimum(1,3,-7,9)\n",
    "Minimum()\n",
    "\n",
    "func(a=1, b=42)\n",
    "func(**{'a':10, 'b':420})\n",
    "func(**dict(a=100, b=4200))\n"
   ]
  },
  {
   "cell_type": "code",
   "execution_count": null,
   "metadata": {},
   "outputs": [],
   "source": []
  },
  {
   "cell_type": "markdown",
   "metadata": {},
   "source": [
    "### N Named Argument"
   ]
  },
  {
   "cell_type": "code",
   "execution_count": null,
   "metadata": {},
   "outputs": [],
   "source": []
  },
  {
   "cell_type": "code",
   "execution_count": null,
   "metadata": {},
   "outputs": [],
   "source": []
  },
  {
   "cell_type": "code",
   "execution_count": null,
   "metadata": {},
   "outputs": [],
   "source": []
  },
  {
   "cell_type": "markdown",
   "metadata": {},
   "source": [
    "### Lambda (Anonymous) Function"
   ]
  },
  {
   "cell_type": "code",
   "execution_count": 37,
   "metadata": {
    "ExecuteTime": {
     "end_time": "2020-03-15T07:57:24.890797Z",
     "start_time": "2020-03-15T07:57:24.882797Z"
    }
   },
   "outputs": [
    {
     "data": {
      "text/plain": [
       "32"
      ]
     },
     "execution_count": 37,
     "metadata": {},
     "output_type": "execute_result"
    }
   ],
   "source": [
    "r = lambda a : a+20\n",
    "r(12)"
   ]
  },
  {
   "cell_type": "code",
   "execution_count": 36,
   "metadata": {
    "ExecuteTime": {
     "end_time": "2020-03-15T07:56:28.755331Z",
     "start_time": "2020-03-15T07:56:28.747265Z"
    }
   },
   "outputs": [
    {
     "data": {
      "text/plain": [
       "30"
      ]
     },
     "execution_count": 36,
     "metadata": {},
     "output_type": "execute_result"
    }
   ],
   "source": [
    "(lambda x,y : x*y) (10,3)"
   ]
  },
  {
   "cell_type": "code",
   "execution_count": 38,
   "metadata": {
    "ExecuteTime": {
     "end_time": "2020-03-15T08:00:35.187514Z",
     "start_time": "2020-03-15T08:00:35.179514Z"
    }
   },
   "outputs": [
    {
     "data": {
      "text/plain": [
       "65"
      ]
     },
     "execution_count": 38,
     "metadata": {},
     "output_type": "execute_result"
    }
   ],
   "source": [
    "r = lambda x,y,z : (x+y)*z\n",
    "r(10,3,5)"
   ]
  },
  {
   "cell_type": "markdown",
   "metadata": {},
   "source": [
    "### Filter Function"
   ]
  },
  {
   "cell_type": "markdown",
   "metadata": {
    "ExecuteTime": {
     "end_time": "2020-03-15T08:10:47.238600Z",
     "start_time": "2020-03-15T08:10:47.222556Z"
    }
   },
   "source": [
    "Syntex - filter(function, Iterable)"
   ]
  },
  {
   "cell_type": "code",
   "execution_count": 51,
   "metadata": {
    "ExecuteTime": {
     "end_time": "2020-03-15T08:34:02.090581Z",
     "start_time": "2020-03-15T08:34:02.082580Z"
    }
   },
   "outputs": [
    {
     "name": "stdout",
     "output_type": "stream",
     "text": [
      "type of oddlst : <class 'list'>\n",
      "Odd List : [5, 7, 97, 77, 23, 73]\n",
      "type of evenlst : <class 'tuple'>\n",
      "Even Tuple : (22, 54, 62, 60)\n"
     ]
    }
   ],
   "source": [
    "mylst = [5,7,22,97,54,62,77,23,73,60]\n",
    "oddlst = list(filter(lambda x : (x%2 != 0), mylst))\n",
    "evenTuple = tuple(filter(lambda x : (x%2 == 0), mylst))\n",
    "print(\"type of oddlst :\", type(oddlst))\n",
    "print(\"Odd List :\", oddlst)\n",
    "print(\"type of evenlst :\", type(evenTuple))\n",
    "print(\"Even Tuple :\", evenTuple)"
   ]
  },
  {
   "cell_type": "code",
   "execution_count": 65,
   "metadata": {
    "ExecuteTime": {
     "end_time": "2020-03-15T08:49:44.098317Z",
     "start_time": "2020-03-15T08:49:44.090254Z"
    }
   },
   "outputs": [
    {
     "name": "stdout",
     "output_type": "stream",
     "text": [
      "g : ['g', 'e', 'e', 'j', 'k', 'i', 'p', 'u']\n",
      "type of g : <class 'list'>\n"
     ]
    }
   ],
   "source": [
    "Alphabet = ['g', 'e', 'e', 'j', 'k', 'i', 'p', 'u']\n",
    "\n",
    "g = list(filter(None, Alphabet))\n",
    "print('g :', g)\n",
    "print('type of g :', type(g))"
   ]
  },
  {
   "cell_type": "code",
   "execution_count": 67,
   "metadata": {
    "ExecuteTime": {
     "end_time": "2020-03-15T08:50:18.725301Z",
     "start_time": "2020-03-15T08:50:18.717299Z"
    }
   },
   "outputs": [
    {
     "name": "stdout",
     "output_type": "stream",
     "text": [
      "g : [True, True, 9, 'abc', True]\n",
      "type of g : <class 'list'>\n"
     ]
    }
   ],
   "source": [
    "Lst = [True, True, False, 9, 'abc', 0, None, True]\n",
    "\n",
    "g = list(filter(None, Lst))\n",
    "print('g :', g)\n",
    "print('type of g :', type(g))"
   ]
  },
  {
   "cell_type": "code",
   "execution_count": 78,
   "metadata": {
    "ExecuteTime": {
     "end_time": "2020-03-15T11:07:29.250162Z",
     "start_time": "2020-03-15T11:07:29.243179Z"
    },
    "code_folding": []
   },
   "outputs": [
    {
     "name": "stdout",
     "output_type": "stream",
     "text": [
      "f : <filter object at 0x00000233FD9D5F88>\n",
      "type of f : <class 'filter'>\n",
      "value of var g\n",
      "value of var e\n",
      "e\n",
      "value of var e\n",
      "e\n",
      "value of var j\n",
      "value of var k\n",
      "value of var i\n",
      "i\n",
      "value of var p\n",
      "value of var u\n",
      "u\n"
     ]
    }
   ],
   "source": [
    "def Vowel(var): \n",
    "    print('value of var', var)\n",
    " #   print('type of var', type(var))\n",
    "    letters = ['a', 'e', 'i', 'o', 'u'] \n",
    "    if (var in letters): \n",
    "        return True\n",
    "    else: \n",
    "        return False\n",
    "\n",
    "##### main()\n",
    "Alphabet = ['g', 'e', 'e', 'j', 'k', 'i', 'p', 'u']\n",
    "\"\"\"\"\n",
    "g = list(filter(Vowel, Alphabet))\n",
    "print('g :', g)\n",
    "print('type of g :', type(g))\n",
    "for x in g: \n",
    "    print(x)\n",
    "print('----------------')\n",
    "\"\"\"\n",
    "f = filter(Vowel, Alphabet)\n",
    "print('f :', f)\n",
    "print('type of f :', type(f))\n",
    "#for x in f: \n",
    " #   print(x)\n",
    "print(f.__next__())\n",
    "print(f.__next__())\n",
    "print(f.__next__())\n",
    "print(f.__next__())"
   ]
  },
  {
   "cell_type": "markdown",
   "metadata": {},
   "source": [
    "### Reduce Function"
   ]
  },
  {
   "cell_type": "code",
   "execution_count": 80,
   "metadata": {
    "ExecuteTime": {
     "end_time": "2020-03-15T11:23:15.122657Z",
     "start_time": "2020-03-15T11:23:15.117671Z"
    }
   },
   "outputs": [
    {
     "name": "stdout",
     "output_type": "stream",
     "text": [
      "x= 1  y= 2\n",
      "x= 2  y= 3\n",
      "Factorial of 3:  6\n"
     ]
    }
   ],
   "source": [
    "import functools\n",
    "def mult(x,y):\n",
    "    print(\"x=\",x, \" y=\",y)\n",
    "    return x*y\n",
    "\n",
    "fact=functools.reduce(mult, range(1, 4))\n",
    "print ('Factorial of 3: ', fact)"
   ]
  },
  {
   "cell_type": "code",
   "execution_count": null,
   "metadata": {},
   "outputs": [],
   "source": []
  }
 ],
 "metadata": {
  "kernelspec": {
   "display_name": "Python 3",
   "language": "python",
   "name": "python3"
  },
  "language_info": {
   "codemirror_mode": {
    "name": "ipython",
    "version": 3
   },
   "file_extension": ".py",
   "mimetype": "text/x-python",
   "name": "python",
   "nbconvert_exporter": "python",
   "pygments_lexer": "ipython3",
   "version": "3.7.4"
  },
  "toc": {
   "base_numbering": 1,
   "nav_menu": {},
   "number_sections": true,
   "sideBar": true,
   "skip_h1_title": false,
   "title_cell": "Table of Contents",
   "title_sidebar": "Contents",
   "toc_cell": false,
   "toc_position": {
    "height": "calc(100% - 180px)",
    "left": "10px",
    "top": "150px",
    "width": "298.6px"
   },
   "toc_section_display": true,
   "toc_window_display": true
  },
  "varInspector": {
   "cols": {
    "lenName": 16,
    "lenType": 16,
    "lenVar": 40
   },
   "kernels_config": {
    "python": {
     "delete_cmd_postfix": "",
     "delete_cmd_prefix": "del ",
     "library": "var_list.py",
     "varRefreshCmd": "print(var_dic_list())"
    },
    "r": {
     "delete_cmd_postfix": ") ",
     "delete_cmd_prefix": "rm(",
     "library": "var_list.r",
     "varRefreshCmd": "cat(var_dic_list()) "
    }
   },
   "types_to_exclude": [
    "module",
    "function",
    "builtin_function_or_method",
    "instance",
    "_Feature"
   ],
   "window_display": false
  }
 },
 "nbformat": 4,
 "nbformat_minor": 2
}
