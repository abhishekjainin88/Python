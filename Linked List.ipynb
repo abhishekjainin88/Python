{
 "cells": [
  {
   "cell_type": "markdown",
   "metadata": {},
   "source": [
    "# Linked List"
   ]
  },
  {
   "cell_type": "markdown",
   "metadata": {},
   "source": [
    "## Pros of Linked List"
   ]
  },
  {
   "cell_type": "markdown",
   "metadata": {
    "ExecuteTime": {
     "end_time": "2020-05-20T17:59:33.931346Z",
     "start_time": "2020-05-20T17:59:33.915746Z"
    }
   },
   "source": [
    "1) Linked List have constant time for insertion and deletion in any position wheras Array require O(n) time to do same thing.\n",
    "\n",
    "2) Linked list can continue to expand without having to give size ahead of time where as Array size need to be given"
   ]
  },
  {
   "cell_type": "markdown",
   "metadata": {},
   "source": [
    "## Cons of Linked List"
   ]
  },
  {
   "cell_type": "markdown",
   "metadata": {},
   "source": [
    "In a Linked List to access kth element we need to spend O(k) time where as in Array it is constant."
   ]
  },
  {
   "cell_type": "markdown",
   "metadata": {
    "ExecuteTime": {
     "end_time": "2020-05-24T19:25:34.979997Z",
     "start_time": "2020-05-24T19:25:34.956897Z"
    }
   },
   "source": [
    "## Singly Linked List Implementation"
   ]
  },
  {
   "cell_type": "code",
   "execution_count": 1,
   "metadata": {
    "ExecuteTime": {
     "end_time": "2020-05-25T09:39:28.345709Z",
     "start_time": "2020-05-25T09:39:28.338209Z"
    }
   },
   "outputs": [],
   "source": [
    "class LinkedList:\n",
    "    \n",
    "    def __init__(self, element):\n",
    "        self.value = element\n",
    "        self.nextnode = None\n",
    "        "
   ]
  },
  {
   "cell_type": "code",
   "execution_count": 2,
   "metadata": {
    "ExecuteTime": {
     "end_time": "2020-05-25T09:39:30.111920Z",
     "start_time": "2020-05-25T09:39:30.080719Z"
    }
   },
   "outputs": [],
   "source": [
    "l1 = LinkedList(1)\n",
    "l2 = LinkedList(2)\n",
    "l3 = LinkedList(3)"
   ]
  },
  {
   "cell_type": "code",
   "execution_count": 3,
   "metadata": {
    "ExecuteTime": {
     "end_time": "2020-05-24T19:54:58.317708Z",
     "start_time": "2020-05-24T19:54:58.287108Z"
    }
   },
   "outputs": [],
   "source": [
    "l1.nextnode = l2"
   ]
  },
  {
   "cell_type": "code",
   "execution_count": 4,
   "metadata": {
    "ExecuteTime": {
     "end_time": "2020-05-24T19:54:58.782715Z",
     "start_time": "2020-05-24T19:54:58.772715Z"
    }
   },
   "outputs": [],
   "source": [
    "l2.nextnode = l3"
   ]
  },
  {
   "cell_type": "code",
   "execution_count": null,
   "metadata": {
    "ExecuteTime": {
     "end_time": "2020-05-24T19:22:48.925320Z",
     "start_time": "2020-05-24T19:22:48.909720Z"
    }
   },
   "outputs": [],
   "source": [
    "l3.value"
   ]
  },
  {
   "cell_type": "code",
   "execution_count": null,
   "metadata": {
    "ExecuteTime": {
     "end_time": "2020-05-24T19:22:52.362151Z",
     "start_time": "2020-05-24T19:22:52.339050Z"
    }
   },
   "outputs": [],
   "source": [
    "print(l1.nextnode)"
   ]
  },
  {
   "cell_type": "code",
   "execution_count": null,
   "metadata": {
    "ExecuteTime": {
     "end_time": "2020-05-24T19:23:02.178289Z",
     "start_time": "2020-05-24T19:23:02.142088Z"
    }
   },
   "outputs": [],
   "source": [
    "l1.nextnode.value"
   ]
  },
  {
   "cell_type": "code",
   "execution_count": null,
   "metadata": {
    "ExecuteTime": {
     "end_time": "2020-05-24T19:23:13.764242Z",
     "start_time": "2020-05-24T19:23:13.730541Z"
    }
   },
   "outputs": [],
   "source": [
    "l1.nextnode.nextnode.value"
   ]
  },
  {
   "cell_type": "code",
   "execution_count": null,
   "metadata": {
    "ExecuteTime": {
     "end_time": "2020-05-24T19:23:34.345635Z",
     "start_time": "2020-05-24T19:23:34.322535Z"
    }
   },
   "outputs": [],
   "source": [
    "print(l1.nextnode.nextnode.nextnode)"
   ]
  },
  {
   "cell_type": "markdown",
   "metadata": {},
   "source": [
    "### Singly Linked List Cycle check"
   ]
  },
  {
   "cell_type": "code",
   "execution_count": 13,
   "metadata": {
    "ExecuteTime": {
     "end_time": "2020-05-24T19:57:21.566518Z",
     "start_time": "2020-05-24T19:57:21.548417Z"
    }
   },
   "outputs": [],
   "source": [
    "def checkCycle(node):\n",
    "    current_node = node\n",
    "    nodes = []\n",
    "    \n",
    "    while(current_node.nextnode is not None):\n",
    "        if current_node.nextnode in nodes:\n",
    "            return True\n",
    "        else:\n",
    "            nodes.append(current_node.nextnode) \n",
    "            current_node = current_node.nextnode\n",
    "    return False"
   ]
  },
  {
   "cell_type": "code",
   "execution_count": null,
   "metadata": {
    "ExecuteTime": {
     "end_time": "2020-05-24T19:42:25.814041Z",
     "start_time": "2020-05-24T19:42:25.789040Z"
    }
   },
   "outputs": [],
   "source": [
    "checkCycle(l1)"
   ]
  },
  {
   "cell_type": "code",
   "execution_count": null,
   "metadata": {
    "ExecuteTime": {
     "end_time": "2020-05-24T19:42:26.543749Z",
     "start_time": "2020-05-24T19:42:26.518149Z"
    }
   },
   "outputs": [],
   "source": [
    "checkCycle(l2)"
   ]
  },
  {
   "cell_type": "code",
   "execution_count": null,
   "metadata": {
    "ExecuteTime": {
     "end_time": "2020-05-24T19:42:27.068758Z",
     "start_time": "2020-05-24T19:42:27.046257Z"
    }
   },
   "outputs": [],
   "source": [
    "checkCycle(l3)"
   ]
  },
  {
   "cell_type": "code",
   "execution_count": 5,
   "metadata": {
    "ExecuteTime": {
     "end_time": "2020-05-24T19:55:17.939841Z",
     "start_time": "2020-05-24T19:55:17.919241Z"
    }
   },
   "outputs": [],
   "source": [
    "l3.nextnode = l1"
   ]
  },
  {
   "cell_type": "code",
   "execution_count": null,
   "metadata": {
    "ExecuteTime": {
     "end_time": "2020-05-24T19:43:30.600267Z",
     "start_time": "2020-05-24T19:43:30.549666Z"
    }
   },
   "outputs": [],
   "source": [
    "checkCycle(l1)"
   ]
  },
  {
   "cell_type": "code",
   "execution_count": 5,
   "metadata": {
    "ExecuteTime": {
     "end_time": "2020-05-25T09:39:47.180674Z",
     "start_time": "2020-05-25T09:39:47.168174Z"
    }
   },
   "outputs": [],
   "source": [
    "def udemy_cycle_check(node):\n",
    "    \n",
    "    marker1 = node\n",
    "    marker2 = node\n",
    "    \n",
    "    while marker1 != None and marker2.nextnode != None:\n",
    "        marker1 = marker1.nextnode\n",
    "        marker2 = marker2.nextnode.nextnode\n",
    "        \n",
    "        if marker1 == marker2:\n",
    "            return True\n",
    "        \n",
    "    return False\n",
    "    \n",
    "    "
   ]
  },
  {
   "cell_type": "code",
   "execution_count": 9,
   "metadata": {
    "ExecuteTime": {
     "end_time": "2020-05-25T09:40:12.930014Z",
     "start_time": "2020-05-25T09:40:12.914414Z"
    }
   },
   "outputs": [
    {
     "data": {
      "text/plain": [
       "True"
      ]
     },
     "execution_count": 9,
     "metadata": {},
     "output_type": "execute_result"
    }
   ],
   "source": [
    "udemy_cycle_check(l1)"
   ]
  },
  {
   "cell_type": "code",
   "execution_count": 10,
   "metadata": {
    "ExecuteTime": {
     "end_time": "2020-05-25T09:40:18.688154Z",
     "start_time": "2020-05-25T09:40:18.670054Z"
    }
   },
   "outputs": [],
   "source": [
    "l1 = LinkedList(1)\n",
    "l2 = LinkedList(2)\n",
    "l3 = LinkedList(3)\n",
    "l4 = LinkedList(4)"
   ]
  },
  {
   "cell_type": "code",
   "execution_count": 11,
   "metadata": {
    "ExecuteTime": {
     "end_time": "2020-05-25T09:40:22.272079Z",
     "start_time": "2020-05-25T09:40:22.240879Z"
    }
   },
   "outputs": [],
   "source": [
    "l1.nextnode = l2\n",
    "l2.nextnode = l3\n",
    "l3.nextnode = l4"
   ]
  },
  {
   "cell_type": "code",
   "execution_count": 12,
   "metadata": {
    "ExecuteTime": {
     "end_time": "2020-05-25T09:40:26.577914Z",
     "start_time": "2020-05-25T09:40:26.542314Z"
    }
   },
   "outputs": [
    {
     "ename": "AttributeError",
     "evalue": "'NoneType' object has no attribute 'nextnode'",
     "output_type": "error",
     "traceback": [
      "\u001b[1;31m---------------------------------------------------------------------------\u001b[0m",
      "\u001b[1;31mAttributeError\u001b[0m                            Traceback (most recent call last)",
      "\u001b[1;32m<ipython-input-12-76bdce813472>\u001b[0m in \u001b[0;36m<module>\u001b[1;34m()\u001b[0m\n\u001b[1;32m----> 1\u001b[1;33m \u001b[0mudemy_cycle_check\u001b[0m\u001b[1;33m(\u001b[0m\u001b[0ml1\u001b[0m\u001b[1;33m)\u001b[0m\u001b[1;33m\u001b[0m\u001b[0m\n\u001b[0m",
      "\u001b[1;32m<ipython-input-5-72d2c345fb59>\u001b[0m in \u001b[0;36mudemy_cycle_check\u001b[1;34m(node)\u001b[0m\n\u001b[0;32m      4\u001b[0m     \u001b[0mmarker2\u001b[0m \u001b[1;33m=\u001b[0m \u001b[0mnode\u001b[0m\u001b[1;33m\u001b[0m\u001b[0m\n\u001b[0;32m      5\u001b[0m \u001b[1;33m\u001b[0m\u001b[0m\n\u001b[1;32m----> 6\u001b[1;33m     \u001b[1;32mwhile\u001b[0m \u001b[0mmarker1\u001b[0m \u001b[1;33m!=\u001b[0m \u001b[1;32mNone\u001b[0m \u001b[1;32mand\u001b[0m \u001b[0mmarker2\u001b[0m\u001b[1;33m.\u001b[0m\u001b[0mnextnode\u001b[0m \u001b[1;33m!=\u001b[0m \u001b[1;32mNone\u001b[0m\u001b[1;33m:\u001b[0m\u001b[1;33m\u001b[0m\u001b[0m\n\u001b[0m\u001b[0;32m      7\u001b[0m         \u001b[0mmarker1\u001b[0m \u001b[1;33m=\u001b[0m \u001b[0mmarker1\u001b[0m\u001b[1;33m.\u001b[0m\u001b[0mnextnode\u001b[0m\u001b[1;33m\u001b[0m\u001b[0m\n\u001b[0;32m      8\u001b[0m         \u001b[0mmarker2\u001b[0m \u001b[1;33m=\u001b[0m \u001b[0mmarker2\u001b[0m\u001b[1;33m.\u001b[0m\u001b[0mnextnode\u001b[0m\u001b[1;33m.\u001b[0m\u001b[0mnextnode\u001b[0m\u001b[1;33m\u001b[0m\u001b[0m\n",
      "\u001b[1;31mAttributeError\u001b[0m: 'NoneType' object has no attribute 'nextnode'"
     ]
    }
   ],
   "source": [
    "udemy_cycle_check(l1)"
   ]
  },
  {
   "cell_type": "code",
   "execution_count": 14,
   "metadata": {
    "ExecuteTime": {
     "end_time": "2020-05-24T19:57:28.167972Z",
     "start_time": "2020-05-24T19:57:28.139872Z"
    }
   },
   "outputs": [
    {
     "data": {
      "text/plain": [
       "False"
      ]
     },
     "execution_count": 14,
     "metadata": {},
     "output_type": "execute_result"
    }
   ],
   "source": [
    "checkCycle(l1)"
   ]
  },
  {
   "cell_type": "markdown",
   "metadata": {},
   "source": [
    "### Link List revarsal Problem"
   ]
  },
  {
   "cell_type": "code",
   "execution_count": 115,
   "metadata": {
    "ExecuteTime": {
     "end_time": "2020-05-25T12:29:40.194617Z",
     "start_time": "2020-05-25T12:29:40.163417Z"
    }
   },
   "outputs": [],
   "source": [
    "a = LinkedList(1)\n",
    "b = LinkedList(2)\n",
    "c = LinkedList(3)\n",
    "d = LinkedList(4)"
   ]
  },
  {
   "cell_type": "code",
   "execution_count": 116,
   "metadata": {
    "ExecuteTime": {
     "end_time": "2020-05-25T12:29:42.402851Z",
     "start_time": "2020-05-25T12:29:42.387251Z"
    }
   },
   "outputs": [],
   "source": [
    "a.nextnode = b\n",
    "b.nextnode = c\n",
    "c.nextnode = d"
   ]
  },
  {
   "cell_type": "code",
   "execution_count": 97,
   "metadata": {
    "ExecuteTime": {
     "end_time": "2020-05-25T11:16:10.877295Z",
     "start_time": "2020-05-25T11:16:10.870295Z"
    }
   },
   "outputs": [
    {
     "name": "stdout",
     "output_type": "stream",
     "text": [
      "1\n",
      "2\n",
      "3\n",
      "4\n"
     ]
    }
   ],
   "source": [
    "print(a.value)\n",
    "print(a.nextnode.value)\n",
    "print(b.nextnode.value)\n",
    "print(c.nextnode.value)\n"
   ]
  },
  {
   "cell_type": "code",
   "execution_count": 98,
   "metadata": {
    "ExecuteTime": {
     "end_time": "2020-05-25T11:16:11.732331Z",
     "start_time": "2020-05-25T11:16:11.710731Z"
    }
   },
   "outputs": [
    {
     "ename": "AttributeError",
     "evalue": "'NoneType' object has no attribute 'value'",
     "output_type": "error",
     "traceback": [
      "\u001b[1;31m---------------------------------------------------------------------------\u001b[0m",
      "\u001b[1;31mAttributeError\u001b[0m                            Traceback (most recent call last)",
      "\u001b[1;32m<ipython-input-98-b998ec28397e>\u001b[0m in \u001b[0;36m<module>\u001b[1;34m()\u001b[0m\n\u001b[1;32m----> 1\u001b[1;33m \u001b[0mprint\u001b[0m\u001b[1;33m(\u001b[0m\u001b[0md\u001b[0m\u001b[1;33m.\u001b[0m\u001b[0mnextnode\u001b[0m\u001b[1;33m.\u001b[0m\u001b[0mvalue\u001b[0m\u001b[1;33m)\u001b[0m\u001b[1;33m\u001b[0m\u001b[0m\n\u001b[0m",
      "\u001b[1;31mAttributeError\u001b[0m: 'NoneType' object has no attribute 'value'"
     ]
    }
   ],
   "source": [
    "print(d.nextnode.value)"
   ]
  },
  {
   "cell_type": "code",
   "execution_count": 99,
   "metadata": {
    "ExecuteTime": {
     "end_time": "2020-05-25T11:16:15.095803Z",
     "start_time": "2020-05-25T11:16:15.080203Z"
    }
   },
   "outputs": [],
   "source": [
    "def reverseLinkList(node):    \n",
    "    current_node = node\n",
    "    previous_node = None\n",
    "    next_node = None\n",
    "    \n",
    "    while current_node:\n",
    "        next_node = current_node.nextnode\n",
    "        current_node.nextnode = previous_node\n",
    "        previous_node = current_node\n",
    "        current_node = next_node\n",
    "        \n",
    "    return previous_node\n",
    "        "
   ]
  },
  {
   "cell_type": "code",
   "execution_count": 106,
   "metadata": {
    "ExecuteTime": {
     "end_time": "2020-05-25T11:16:26.959347Z",
     "start_time": "2020-05-25T11:16:26.925147Z"
    }
   },
   "outputs": [
    {
     "data": {
      "text/plain": [
       "<__main__.LinkedList at 0x55c7c88>"
      ]
     },
     "execution_count": 106,
     "metadata": {},
     "output_type": "execute_result"
    }
   ],
   "source": [
    "reverseLinkList(d)"
   ]
  },
  {
   "cell_type": "code",
   "execution_count": 107,
   "metadata": {
    "ExecuteTime": {
     "end_time": "2020-05-25T11:16:28.552179Z",
     "start_time": "2020-05-25T11:16:28.536579Z"
    }
   },
   "outputs": [
    {
     "name": "stdout",
     "output_type": "stream",
     "text": [
      "4\n"
     ]
    }
   ],
   "source": [
    "print(d.value)"
   ]
  },
  {
   "cell_type": "code",
   "execution_count": 108,
   "metadata": {
    "ExecuteTime": {
     "end_time": "2020-05-25T11:16:29.389611Z",
     "start_time": "2020-05-25T11:16:29.356410Z"
    }
   },
   "outputs": [
    {
     "ename": "AttributeError",
     "evalue": "'NoneType' object has no attribute 'value'",
     "output_type": "error",
     "traceback": [
      "\u001b[1;31m---------------------------------------------------------------------------\u001b[0m",
      "\u001b[1;31mAttributeError\u001b[0m                            Traceback (most recent call last)",
      "\u001b[1;32m<ipython-input-108-b998ec28397e>\u001b[0m in \u001b[0;36m<module>\u001b[1;34m()\u001b[0m\n\u001b[1;32m----> 1\u001b[1;33m \u001b[0mprint\u001b[0m\u001b[1;33m(\u001b[0m\u001b[0md\u001b[0m\u001b[1;33m.\u001b[0m\u001b[0mnextnode\u001b[0m\u001b[1;33m.\u001b[0m\u001b[0mvalue\u001b[0m\u001b[1;33m)\u001b[0m\u001b[1;33m\u001b[0m\u001b[0m\n\u001b[0m",
      "\u001b[1;31mAttributeError\u001b[0m: 'NoneType' object has no attribute 'value'"
     ]
    }
   ],
   "source": [
    "print(d.nextnode.value)"
   ]
  },
  {
   "cell_type": "code",
   "execution_count": 103,
   "metadata": {
    "ExecuteTime": {
     "end_time": "2020-05-25T11:16:20.562559Z",
     "start_time": "2020-05-25T11:16:20.546959Z"
    }
   },
   "outputs": [
    {
     "name": "stdout",
     "output_type": "stream",
     "text": [
      "2\n"
     ]
    }
   ],
   "source": [
    "print(d.nextnode.nextnode.value)"
   ]
  },
  {
   "cell_type": "code",
   "execution_count": 104,
   "metadata": {
    "ExecuteTime": {
     "end_time": "2020-05-25T11:16:21.169590Z",
     "start_time": "2020-05-25T11:16:21.153990Z"
    }
   },
   "outputs": [
    {
     "name": "stdout",
     "output_type": "stream",
     "text": [
      "1\n"
     ]
    }
   ],
   "source": [
    "print(d.nextnode.nextnode.nextnode.value)"
   ]
  },
  {
   "cell_type": "code",
   "execution_count": 109,
   "metadata": {
    "ExecuteTime": {
     "end_time": "2020-05-25T11:16:33.645729Z",
     "start_time": "2020-05-25T11:16:33.626128Z"
    }
   },
   "outputs": [
    {
     "name": "stdout",
     "output_type": "stream",
     "text": [
      "1\n"
     ]
    }
   ],
   "source": [
    "print(a.value)"
   ]
  },
  {
   "cell_type": "code",
   "execution_count": 110,
   "metadata": {
    "ExecuteTime": {
     "end_time": "2020-05-25T11:16:34.164758Z",
     "start_time": "2020-05-25T11:16:34.157758Z"
    }
   },
   "outputs": [
    {
     "name": "stdout",
     "output_type": "stream",
     "text": [
      "2\n"
     ]
    }
   ],
   "source": [
    "print(a.nextnode.value)"
   ]
  },
  {
   "cell_type": "markdown",
   "metadata": {},
   "source": [
    "### Linked List - Nth node from last node"
   ]
  },
  {
   "cell_type": "code",
   "execution_count": 121,
   "metadata": {
    "ExecuteTime": {
     "end_time": "2020-05-25T12:30:21.865117Z",
     "start_time": "2020-05-25T12:30:21.848516Z"
    }
   },
   "outputs": [],
   "source": [
    "def nth_element_from_last(node,n):\n",
    "    \n",
    "    first = node\n",
    "    last = node\n",
    "    \n",
    "    for i in range(n):        \n",
    "        last = last.nextnode\n",
    "        \n",
    "    while last.nextnode:\n",
    "        first = first.nextnode\n",
    "        last = last.nextnode\n",
    "    \n",
    "    return first\n",
    "    "
   ]
  },
  {
   "cell_type": "code",
   "execution_count": 122,
   "metadata": {
    "ExecuteTime": {
     "end_time": "2020-05-25T12:30:22.401147Z",
     "start_time": "2020-05-25T12:30:22.395147Z"
    }
   },
   "outputs": [],
   "source": [
    "f = nth_element_from_last(a,2)"
   ]
  },
  {
   "cell_type": "code",
   "execution_count": 123,
   "metadata": {
    "ExecuteTime": {
     "end_time": "2020-05-25T12:30:23.839380Z",
     "start_time": "2020-05-25T12:30:23.821780Z"
    }
   },
   "outputs": [
    {
     "data": {
      "text/plain": [
       "2"
      ]
     },
     "execution_count": 123,
     "metadata": {},
     "output_type": "execute_result"
    }
   ],
   "source": [
    "f.value"
   ]
  },
  {
   "cell_type": "markdown",
   "metadata": {},
   "source": [
    "## Doubly Linked List"
   ]
  },
  {
   "cell_type": "code",
   "execution_count": 125,
   "metadata": {
    "ExecuteTime": {
     "end_time": "2020-05-25T12:32:40.820538Z",
     "start_time": "2020-05-25T12:32:40.804938Z"
    }
   },
   "outputs": [],
   "source": [
    "class DoublyLinkedListy:\n",
    "    \n",
    "    def __init__(self,element):\n",
    "        self.value = element\n",
    "        self.previousnode = None\n",
    "        self.nextnode = None\n",
    "        "
   ]
  },
  {
   "cell_type": "code",
   "execution_count": 126,
   "metadata": {
    "ExecuteTime": {
     "end_time": "2020-05-25T12:32:57.222828Z",
     "start_time": "2020-05-25T12:32:57.207228Z"
    }
   },
   "outputs": [],
   "source": [
    "a = LinkedList(1)\n",
    "b = LinkedList(2)\n",
    "c = LinkedList(3)\n",
    "d = LinkedList(4)"
   ]
  },
  {
   "cell_type": "code",
   "execution_count": 128,
   "metadata": {
    "ExecuteTime": {
     "end_time": "2020-05-25T12:33:41.030698Z",
     "start_time": "2020-05-25T12:33:41.013098Z"
    }
   },
   "outputs": [],
   "source": [
    "a.nextnode = b\n",
    "b.previousnode = a\n",
    "b.nextnode = c\n",
    "c.previousnode = b\n",
    "c.nextnode = d\n",
    "d.previousnode = c"
   ]
  },
  {
   "cell_type": "code",
   "execution_count": 131,
   "metadata": {
    "ExecuteTime": {
     "end_time": "2020-05-25T12:34:15.594752Z",
     "start_time": "2020-05-25T12:34:15.562552Z"
    }
   },
   "outputs": [
    {
     "name": "stdout",
     "output_type": "stream",
     "text": [
      "1\n",
      "2\n",
      "3\n",
      "4\n"
     ]
    }
   ],
   "source": [
    "print(a.value)\n",
    "print(b.value)\n",
    "print(c.value)\n",
    "print(d.value)\n"
   ]
  },
  {
   "cell_type": "code",
   "execution_count": 132,
   "metadata": {
    "ExecuteTime": {
     "end_time": "2020-05-25T12:34:27.531166Z",
     "start_time": "2020-05-25T12:34:27.526165Z"
    }
   },
   "outputs": [
    {
     "data": {
      "text/plain": [
       "2"
      ]
     },
     "execution_count": 132,
     "metadata": {},
     "output_type": "execute_result"
    }
   ],
   "source": [
    "a.nextnode.value\n"
   ]
  },
  {
   "cell_type": "code",
   "execution_count": 134,
   "metadata": {
    "ExecuteTime": {
     "end_time": "2020-05-25T12:34:38.225323Z",
     "start_time": "2020-05-25T12:34:38.194123Z"
    }
   },
   "outputs": [
    {
     "data": {
      "text/plain": [
       "1"
      ]
     },
     "execution_count": 134,
     "metadata": {},
     "output_type": "execute_result"
    }
   ],
   "source": [
    "b.previousnode.value"
   ]
  },
  {
   "cell_type": "code",
   "execution_count": null,
   "metadata": {},
   "outputs": [],
   "source": []
  }
 ],
 "metadata": {
  "kernelspec": {
   "display_name": "Python 3",
   "language": "python",
   "name": "python3"
  },
  "language_info": {
   "codemirror_mode": {
    "name": "ipython",
    "version": 3
   },
   "file_extension": ".py",
   "mimetype": "text/x-python",
   "name": "python",
   "nbconvert_exporter": "python",
   "pygments_lexer": "ipython3",
   "version": "3.7.0"
  },
  "toc": {
   "base_numbering": 1,
   "nav_menu": {},
   "number_sections": true,
   "sideBar": true,
   "skip_h1_title": false,
   "title_cell": "Table of Contents",
   "title_sidebar": "Contents",
   "toc_cell": false,
   "toc_position": {
    "height": "calc(100% - 180px)",
    "left": "10px",
    "top": "150px",
    "width": "273.188px"
   },
   "toc_section_display": true,
   "toc_window_display": true
  },
  "varInspector": {
   "cols": {
    "lenName": 16,
    "lenType": 16,
    "lenVar": 40
   },
   "kernels_config": {
    "python": {
     "delete_cmd_postfix": "",
     "delete_cmd_prefix": "del ",
     "library": "var_list.py",
     "varRefreshCmd": "print(var_dic_list())"
    },
    "r": {
     "delete_cmd_postfix": ") ",
     "delete_cmd_prefix": "rm(",
     "library": "var_list.r",
     "varRefreshCmd": "cat(var_dic_list()) "
    }
   },
   "types_to_exclude": [
    "module",
    "function",
    "builtin_function_or_method",
    "instance",
    "_Feature"
   ],
   "window_display": false
  }
 },
 "nbformat": 4,
 "nbformat_minor": 2
}
