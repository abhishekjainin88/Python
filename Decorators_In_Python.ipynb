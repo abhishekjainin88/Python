{
 "cells": [
  {
   "cell_type": "markdown",
   "metadata": {},
   "source": [
    "# Functions"
   ]
  },
  {
   "cell_type": "markdown",
   "metadata": {},
   "source": [
    "## Assign Function to variable"
   ]
  },
  {
   "cell_type": "code",
   "execution_count": null,
   "metadata": {
    "ExecuteTime": {
     "end_time": "2020-04-22T15:39:47.743082Z",
     "start_time": "2020-04-22T15:39:47.711882Z"
    }
   },
   "outputs": [],
   "source": [
    "def plus_one(number):\n",
    "    return number + 1"
   ]
  },
  {
   "cell_type": "code",
   "execution_count": null,
   "metadata": {
    "ExecuteTime": {
     "end_time": "2020-04-22T15:39:51.043101Z",
     "start_time": "2020-04-22T15:39:51.027501Z"
    }
   },
   "outputs": [],
   "source": [
    "add_one = plus_one"
   ]
  },
  {
   "cell_type": "code",
   "execution_count": null,
   "metadata": {
    "ExecuteTime": {
     "end_time": "2020-04-22T15:39:52.983115Z",
     "start_time": "2020-04-22T15:39:52.936915Z"
    }
   },
   "outputs": [],
   "source": [
    "add_one(5)"
   ]
  },
  {
   "cell_type": "markdown",
   "metadata": {},
   "source": [
    "## Defining Functions Inside other Functions"
   ]
  },
  {
   "cell_type": "code",
   "execution_count": null,
   "metadata": {
    "ExecuteTime": {
     "end_time": "2020-04-22T15:42:52.551383Z",
     "start_time": "2020-04-22T15:42:52.520183Z"
    }
   },
   "outputs": [],
   "source": [
    "def plus_one(number):\n",
    "    print('In start of outer function')\n",
    "    def add_one(number):\n",
    "        print('In Inner function before assignment and return')\n",
    "        return number + 1\n",
    "    print('In outer function after inner function end and before assignment. ')\n",
    "    result = add_one(number)\n",
    "    print('In outer function before return')\n",
    "    return result"
   ]
  },
  {
   "cell_type": "code",
   "execution_count": null,
   "metadata": {
    "ExecuteTime": {
     "end_time": "2020-04-22T15:42:53.513893Z",
     "start_time": "2020-04-22T15:42:53.482693Z"
    }
   },
   "outputs": [],
   "source": [
    "plus_one(4)"
   ]
  },
  {
   "cell_type": "markdown",
   "metadata": {},
   "source": [
    "## Passing Functions as Arguments to other Functions"
   ]
  },
  {
   "cell_type": "code",
   "execution_count": null,
   "metadata": {
    "ExecuteTime": {
     "end_time": "2020-04-22T15:46:39.122996Z",
     "start_time": "2020-04-22T15:46:39.107396Z"
    }
   },
   "outputs": [],
   "source": [
    "def plus_one(number):\n",
    "    print('plus_one is called')\n",
    "    return number + 1"
   ]
  },
  {
   "cell_type": "code",
   "execution_count": null,
   "metadata": {
    "ExecuteTime": {
     "end_time": "2020-04-22T15:46:39.613004Z",
     "start_time": "2020-04-22T15:46:39.605504Z"
    }
   },
   "outputs": [],
   "source": [
    "def function_call(function):\n",
    "    number_to_add = 5\n",
    "    print('function_call is called')\n",
    "    print(function)\n",
    "    return function(number_to_add)"
   ]
  },
  {
   "cell_type": "code",
   "execution_count": null,
   "metadata": {
    "ExecuteTime": {
     "end_time": "2020-04-22T15:46:40.080511Z",
     "start_time": "2020-04-22T15:46:40.053010Z"
    }
   },
   "outputs": [],
   "source": [
    "function_call(plus_one)"
   ]
  },
  {
   "cell_type": "markdown",
   "metadata": {},
   "source": [
    "## Functions Returning other Functions"
   ]
  },
  {
   "cell_type": "code",
   "execution_count": null,
   "metadata": {
    "ExecuteTime": {
     "end_time": "2020-04-22T16:10:17.240960Z",
     "start_time": "2020-04-22T16:10:17.225960Z"
    }
   },
   "outputs": [],
   "source": [
    "def hello_function():\n",
    "    print('hello_function call started')\n",
    "    def say_hi():\n",
    "        print('say_hi is called')\n",
    "        return \"Hi\"\n",
    "    print('hello_function call ended')\n",
    "    return say_hi"
   ]
  },
  {
   "cell_type": "code",
   "execution_count": null,
   "metadata": {
    "ExecuteTime": {
     "end_time": "2020-04-22T16:10:17.865970Z",
     "start_time": "2020-04-22T16:10:17.845970Z"
    }
   },
   "outputs": [],
   "source": [
    "hello = hello_function()"
   ]
  },
  {
   "cell_type": "code",
   "execution_count": null,
   "metadata": {
    "ExecuteTime": {
     "end_time": "2020-04-22T16:10:21.495622Z",
     "start_time": "2020-04-22T16:10:21.478122Z"
    }
   },
   "outputs": [],
   "source": [
    "hello"
   ]
  },
  {
   "cell_type": "code",
   "execution_count": null,
   "metadata": {
    "ExecuteTime": {
     "end_time": "2020-04-22T16:10:22.803641Z",
     "start_time": "2020-04-22T16:10:22.783641Z"
    }
   },
   "outputs": [],
   "source": [
    "hello()"
   ]
  },
  {
   "cell_type": "markdown",
   "metadata": {},
   "source": [
    "## Nested Functions have access to the Enclosing Function's Variable Scope"
   ]
  },
  {
   "cell_type": "code",
   "execution_count": null,
   "metadata": {
    "ExecuteTime": {
     "end_time": "2020-04-22T15:53:43.773082Z",
     "start_time": "2020-04-22T15:53:43.749982Z"
    }
   },
   "outputs": [],
   "source": [
    "def print_message(message):\n",
    "    print(\"Enclosong Function\")\n",
    "    def message_sender():\n",
    "        print(\"Nested Function\")\n",
    "        print(message)\n",
    "\n",
    "    message_sender()"
   ]
  },
  {
   "cell_type": "code",
   "execution_count": null,
   "metadata": {
    "ExecuteTime": {
     "end_time": "2020-04-22T15:53:44.553991Z",
     "start_time": "2020-04-22T15:53:44.522791Z"
    }
   },
   "outputs": [],
   "source": [
    "print_message(\"Some random message\")"
   ]
  },
  {
   "cell_type": "markdown",
   "metadata": {},
   "source": [
    "# Decorators"
   ]
  },
  {
   "cell_type": "markdown",
   "metadata": {},
   "source": [
    "A decorator is a design pattern in Python that allows a user to add new functionality to an existing object without modifying its structure. \n",
    "It allows programmers to modify the behavior of function or class. \n",
    "Using decorators in Python also ensures that your code is DRY(Don't Repeat Yourself).\n",
    "Decorators have several use cases such as:\n",
    "a) Authorization in Python frameworks such as Flask and Django\n",
    "b) Logging\n",
    "c) Measuring execution time\n",
    "d) Synchronization"
   ]
  },
  {
   "cell_type": "markdown",
   "metadata": {},
   "source": [
    "## Creating Decorator"
   ]
  },
  {
   "cell_type": "code",
   "execution_count": null,
   "metadata": {
    "ExecuteTime": {
     "end_time": "2020-04-22T16:50:35.501447Z",
     "start_time": "2020-04-22T16:50:35.495447Z"
    }
   },
   "outputs": [],
   "source": [
    "def say_hello():\n",
    "    print('Hello!')"
   ]
  },
  {
   "cell_type": "code",
   "execution_count": null,
   "metadata": {
    "ExecuteTime": {
     "end_time": "2020-04-22T16:50:36.045478Z",
     "start_time": "2020-04-22T16:50:36.034477Z"
    }
   },
   "outputs": [],
   "source": [
    "say_hello()"
   ]
  },
  {
   "cell_type": "code",
   "execution_count": 10,
   "metadata": {
    "ExecuteTime": {
     "end_time": "2020-04-23T16:05:36.451027Z",
     "start_time": "2020-04-23T16:05:36.438027Z"
    }
   },
   "outputs": [],
   "source": [
    "def say_smart_hello(func):\n",
    "    def smart_function():\n",
    "        print('Smile first!')\n",
    "        func()\n",
    "        print('Smile again!')\n",
    "    return smart_function"
   ]
  },
  {
   "cell_type": "code",
   "execution_count": null,
   "metadata": {
    "ExecuteTime": {
     "end_time": "2020-04-22T16:50:39.293664Z",
     "start_time": "2020-04-22T16:50:39.284663Z"
    }
   },
   "outputs": [],
   "source": [
    "my_hello = say_smart_hello(say_hello)"
   ]
  },
  {
   "cell_type": "code",
   "execution_count": null,
   "metadata": {
    "ExecuteTime": {
     "end_time": "2020-04-22T16:50:40.121711Z",
     "start_time": "2020-04-22T16:50:40.103710Z"
    }
   },
   "outputs": [],
   "source": [
    "my_hello()"
   ]
  },
  {
   "cell_type": "code",
   "execution_count": null,
   "metadata": {
    "ExecuteTime": {
     "end_time": "2020-04-22T16:50:42.816865Z",
     "start_time": "2020-04-22T16:50:42.800864Z"
    }
   },
   "outputs": [],
   "source": [
    "def say_bye():\n",
    "    print('Bye!')"
   ]
  },
  {
   "cell_type": "code",
   "execution_count": null,
   "metadata": {
    "ExecuteTime": {
     "end_time": "2020-04-22T16:50:43.392898Z",
     "start_time": "2020-04-22T16:50:43.382898Z"
    }
   },
   "outputs": [],
   "source": [
    "my_bye = say_smart_hello(say_bye)"
   ]
  },
  {
   "cell_type": "code",
   "execution_count": null,
   "metadata": {
    "ExecuteTime": {
     "end_time": "2020-04-22T16:50:43.986932Z",
     "start_time": "2020-04-22T16:50:43.965931Z"
    }
   },
   "outputs": [],
   "source": [
    "my_bye()"
   ]
  },
  {
   "cell_type": "code",
   "execution_count": null,
   "metadata": {
    "ExecuteTime": {
     "end_time": "2020-04-22T16:50:51.817380Z",
     "start_time": "2020-04-22T16:50:51.799379Z"
    }
   },
   "outputs": [],
   "source": [
    "@say_smart_hello\n",
    "def say_namaste():\n",
    "    print('Namaste!')"
   ]
  },
  {
   "cell_type": "code",
   "execution_count": null,
   "metadata": {
    "ExecuteTime": {
     "end_time": "2020-04-22T16:50:52.784436Z",
     "start_time": "2020-04-22T16:50:52.769435Z"
    }
   },
   "outputs": [],
   "source": [
    "say_namaste()"
   ]
  },
  {
   "cell_type": "code",
   "execution_count": null,
   "metadata": {
    "ExecuteTime": {
     "end_time": "2020-04-22T16:50:56.735662Z",
     "start_time": "2020-04-22T16:50:56.717660Z"
    }
   },
   "outputs": [],
   "source": [
    "def div(a,b):\n",
    "    print(a/b)"
   ]
  },
  {
   "cell_type": "code",
   "execution_count": null,
   "metadata": {
    "ExecuteTime": {
     "end_time": "2020-04-22T16:50:58.685773Z",
     "start_time": "2020-04-22T16:50:58.663772Z"
    }
   },
   "outputs": [],
   "source": [
    "div(2,3)"
   ]
  },
  {
   "cell_type": "code",
   "execution_count": null,
   "metadata": {
    "ExecuteTime": {
     "end_time": "2020-04-22T16:51:00.395871Z",
     "start_time": "2020-04-22T16:51:00.373870Z"
    }
   },
   "outputs": [],
   "source": [
    "div(3,2)"
   ]
  },
  {
   "cell_type": "code",
   "execution_count": null,
   "metadata": {
    "ExecuteTime": {
     "end_time": "2020-04-22T16:51:03.116026Z",
     "start_time": "2020-04-22T16:51:03.101026Z"
    }
   },
   "outputs": [],
   "source": [
    "def sub(a,b):\n",
    "    print(a-b)"
   ]
  },
  {
   "cell_type": "code",
   "execution_count": null,
   "metadata": {
    "ExecuteTime": {
     "end_time": "2020-04-22T16:51:03.627056Z",
     "start_time": "2020-04-22T16:51:03.610055Z"
    }
   },
   "outputs": [],
   "source": [
    "sub(2,3)"
   ]
  },
  {
   "cell_type": "code",
   "execution_count": null,
   "metadata": {
    "ExecuteTime": {
     "end_time": "2020-04-22T16:51:04.060080Z",
     "start_time": "2020-04-22T16:51:04.045080Z"
    }
   },
   "outputs": [],
   "source": [
    "sub(3,2)"
   ]
  },
  {
   "cell_type": "code",
   "execution_count": 5,
   "metadata": {
    "ExecuteTime": {
     "end_time": "2020-04-23T15:58:09.096440Z",
     "start_time": "2020-04-23T15:58:09.085439Z"
    }
   },
   "outputs": [],
   "source": [
    "def smart_operation(func):\n",
    "    def smart_func(a,b):\n",
    "        if a < b:\n",
    "            a,b = b,a\n",
    "        return func(a,b)\n",
    "    return smart_func"
   ]
  },
  {
   "cell_type": "code",
   "execution_count": null,
   "metadata": {
    "ExecuteTime": {
     "end_time": "2020-04-22T16:51:30.676603Z",
     "start_time": "2020-04-22T16:51:30.666602Z"
    }
   },
   "outputs": [],
   "source": [
    "new_div = smart_operation(div)"
   ]
  },
  {
   "cell_type": "code",
   "execution_count": null,
   "metadata": {
    "ExecuteTime": {
     "end_time": "2020-04-22T16:51:36.486935Z",
     "start_time": "2020-04-22T16:51:36.464934Z"
    }
   },
   "outputs": [],
   "source": [
    "new_div(2,3)"
   ]
  },
  {
   "cell_type": "code",
   "execution_count": null,
   "metadata": {
    "ExecuteTime": {
     "end_time": "2020-04-22T16:51:39.344099Z",
     "start_time": "2020-04-22T16:51:39.328098Z"
    }
   },
   "outputs": [],
   "source": [
    "new_div(3,2)"
   ]
  },
  {
   "cell_type": "code",
   "execution_count": null,
   "metadata": {
    "ExecuteTime": {
     "end_time": "2020-04-23T15:40:09.563696Z",
     "start_time": "2020-04-23T15:40:09.558695Z"
    }
   },
   "outputs": [],
   "source": [
    "@smart_operation\n",
    "def div(a,b):\n",
    "    print(a/b)"
   ]
  },
  {
   "cell_type": "code",
   "execution_count": null,
   "metadata": {
    "ExecuteTime": {
     "end_time": "2020-04-22T16:51:51.611800Z",
     "start_time": "2020-04-22T16:51:51.598800Z"
    }
   },
   "outputs": [],
   "source": [
    "@smart_operation\n",
    "def sub(a,b):\n",
    "    print(a-b)"
   ]
  },
  {
   "cell_type": "code",
   "execution_count": null,
   "metadata": {
    "ExecuteTime": {
     "end_time": "2020-04-23T15:40:10.724731Z",
     "start_time": "2020-04-23T15:40:10.712731Z"
    }
   },
   "outputs": [],
   "source": [
    "div(3,2)"
   ]
  },
  {
   "cell_type": "code",
   "execution_count": null,
   "metadata": {
    "ExecuteTime": {
     "end_time": "2020-04-22T16:51:54.942991Z",
     "start_time": "2020-04-22T16:51:54.926990Z"
    }
   },
   "outputs": [],
   "source": [
    "div(2,3)"
   ]
  },
  {
   "cell_type": "code",
   "execution_count": null,
   "metadata": {
    "ExecuteTime": {
     "end_time": "2020-04-22T16:51:55.571027Z",
     "start_time": "2020-04-22T16:51:55.551026Z"
    }
   },
   "outputs": [],
   "source": [
    "sub(2,3)"
   ]
  },
  {
   "cell_type": "code",
   "execution_count": null,
   "metadata": {
    "ExecuteTime": {
     "end_time": "2020-04-22T16:51:56.944105Z",
     "start_time": "2020-04-22T16:51:56.919104Z"
    }
   },
   "outputs": [],
   "source": [
    "sub(3,2)"
   ]
  },
  {
   "cell_type": "markdown",
   "metadata": {},
   "source": [
    "## importing decorator"
   ]
  },
  {
   "cell_type": "code",
   "execution_count": 3,
   "metadata": {
    "ExecuteTime": {
     "end_time": "2020-04-23T15:57:37.205616Z",
     "start_time": "2020-04-23T15:57:37.181615Z"
    }
   },
   "outputs": [],
   "source": [
    "from smart import say_smart_hello\n",
    "@say_smart_hello\n",
    "def abhi():\n",
    "    print('Hi Abhi')   "
   ]
  },
  {
   "cell_type": "code",
   "execution_count": 4,
   "metadata": {
    "ExecuteTime": {
     "end_time": "2020-04-23T15:57:37.823651Z",
     "start_time": "2020-04-23T15:57:37.812651Z"
    }
   },
   "outputs": [
    {
     "name": "stdout",
     "output_type": "stream",
     "text": [
      "Smile first!\n",
      "Hi Abhi\n",
      "Smile again!\n"
     ]
    }
   ],
   "source": [
    "abhi()"
   ]
  },
  {
   "cell_type": "markdown",
   "metadata": {},
   "source": [
    "# Decorator part 2"
   ]
  },
  {
   "cell_type": "markdown",
   "metadata": {},
   "source": [
    "## Decorating Functions With Arguments and Applying Multiple Decorators to a Single Function"
   ]
  },
  {
   "cell_type": "code",
   "execution_count": 11,
   "metadata": {
    "ExecuteTime": {
     "end_time": "2020-04-23T16:05:53.345994Z",
     "start_time": "2020-04-23T16:05:53.339993Z"
    }
   },
   "outputs": [],
   "source": [
    "@smart_operation\n",
    "@say_smart_hello\n",
    "def div(a,b):\n",
    "    print(a/b)"
   ]
  },
  {
   "cell_type": "code",
   "execution_count": 12,
   "metadata": {
    "ExecuteTime": {
     "end_time": "2020-04-23T16:06:06.316736Z",
     "start_time": "2020-04-23T16:06:06.162727Z"
    }
   },
   "outputs": [
    {
     "ename": "TypeError",
     "evalue": "smart_function() takes 0 positional arguments but 2 were given",
     "output_type": "error",
     "traceback": [
      "\u001b[1;31m---------------------------------------------------------------------------\u001b[0m",
      "\u001b[1;31mTypeError\u001b[0m                                 Traceback (most recent call last)",
      "\u001b[1;32m<ipython-input-12-0bfeb15b59c5>\u001b[0m in \u001b[0;36m<module>\u001b[1;34m()\u001b[0m\n\u001b[1;32m----> 1\u001b[1;33m \u001b[0mdiv\u001b[0m\u001b[1;33m(\u001b[0m\u001b[1;36m2\u001b[0m\u001b[1;33m,\u001b[0m\u001b[1;36m3\u001b[0m\u001b[1;33m)\u001b[0m\u001b[1;33m\u001b[0m\u001b[0m\n\u001b[0m",
      "\u001b[1;32m<ipython-input-5-9e2259ecd762>\u001b[0m in \u001b[0;36msmart_func\u001b[1;34m(a, b)\u001b[0m\n\u001b[0;32m      3\u001b[0m         \u001b[1;32mif\u001b[0m \u001b[0ma\u001b[0m \u001b[1;33m<\u001b[0m \u001b[0mb\u001b[0m\u001b[1;33m:\u001b[0m\u001b[1;33m\u001b[0m\u001b[0m\n\u001b[0;32m      4\u001b[0m             \u001b[0ma\u001b[0m\u001b[1;33m,\u001b[0m\u001b[0mb\u001b[0m \u001b[1;33m=\u001b[0m \u001b[0mb\u001b[0m\u001b[1;33m,\u001b[0m\u001b[0ma\u001b[0m\u001b[1;33m\u001b[0m\u001b[0m\n\u001b[1;32m----> 5\u001b[1;33m         \u001b[1;32mreturn\u001b[0m \u001b[0mfunc\u001b[0m\u001b[1;33m(\u001b[0m\u001b[0ma\u001b[0m\u001b[1;33m,\u001b[0m\u001b[0mb\u001b[0m\u001b[1;33m)\u001b[0m\u001b[1;33m\u001b[0m\u001b[0m\n\u001b[0m\u001b[0;32m      6\u001b[0m     \u001b[1;32mreturn\u001b[0m \u001b[0msmart_func\u001b[0m\u001b[1;33m\u001b[0m\u001b[0m\n",
      "\u001b[1;31mTypeError\u001b[0m: smart_function() takes 0 positional arguments but 2 were given"
     ]
    }
   ],
   "source": [
    "div(2,3)"
   ]
  },
  {
   "cell_type": "code",
   "execution_count": 8,
   "metadata": {
    "ExecuteTime": {
     "end_time": "2020-04-23T15:59:10.383946Z",
     "start_time": "2020-04-23T15:59:10.373945Z"
    }
   },
   "outputs": [],
   "source": [
    "from newsmart import say_smart_hello\n",
    "\n",
    "@smart_operation\n",
    "@say_smart_hello\n",
    "def div(a,b):\n",
    "    print(a/b)"
   ]
  },
  {
   "cell_type": "code",
   "execution_count": 9,
   "metadata": {
    "ExecuteTime": {
     "end_time": "2020-04-23T15:59:10.980980Z",
     "start_time": "2020-04-23T15:59:10.973979Z"
    }
   },
   "outputs": [
    {
     "name": "stdout",
     "output_type": "stream",
     "text": [
      "Smile first!\n",
      "1.5\n",
      "Smile again!\n"
     ]
    }
   ],
   "source": [
    "div(2,3)"
   ]
  },
  {
   "cell_type": "markdown",
   "metadata": {},
   "source": [
    "## Passing Arguments to the Decorator"
   ]
  },
  {
   "cell_type": "code",
   "execution_count": null,
   "metadata": {},
   "outputs": [],
   "source": [
    "def repeat(num,func):\n",
    "    def do_something():\n",
    "        for i in num:\n",
    "            func()\n",
    "    return do_something"
   ]
  }
 ],
 "metadata": {
  "kernelspec": {
   "display_name": "Python 3",
   "language": "python",
   "name": "python3"
  },
  "language_info": {
   "codemirror_mode": {
    "name": "ipython",
    "version": 3
   },
   "file_extension": ".py",
   "mimetype": "text/x-python",
   "name": "python",
   "nbconvert_exporter": "python",
   "pygments_lexer": "ipython3",
   "version": "3.7.0"
  },
  "toc": {
   "base_numbering": 1,
   "nav_menu": {},
   "number_sections": true,
   "sideBar": true,
   "skip_h1_title": false,
   "title_cell": "Table of Contents",
   "title_sidebar": "Contents",
   "toc_cell": false,
   "toc_position": {
    "height": "calc(100% - 180px)",
    "left": "10px",
    "top": "150px",
    "width": "273.188px"
   },
   "toc_section_display": true,
   "toc_window_display": true
  },
  "varInspector": {
   "cols": {
    "lenName": 16,
    "lenType": 16,
    "lenVar": 40
   },
   "kernels_config": {
    "python": {
     "delete_cmd_postfix": "",
     "delete_cmd_prefix": "del ",
     "library": "var_list.py",
     "varRefreshCmd": "print(var_dic_list())"
    },
    "r": {
     "delete_cmd_postfix": ") ",
     "delete_cmd_prefix": "rm(",
     "library": "var_list.r",
     "varRefreshCmd": "cat(var_dic_list()) "
    }
   },
   "types_to_exclude": [
    "module",
    "function",
    "builtin_function_or_method",
    "instance",
    "_Feature"
   ],
   "window_display": false
  }
 },
 "nbformat": 4,
 "nbformat_minor": 2
}
