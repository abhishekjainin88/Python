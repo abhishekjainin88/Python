{
 "cells": [
  {
   "cell_type": "markdown",
   "metadata": {
    "ExecuteTime": {
     "end_time": "2020-05-28T15:49:25.593302Z",
     "start_time": "2020-05-28T15:49:25.575802Z"
    }
   },
   "source": [
    "# Recursion"
   ]
  },
  {
   "cell_type": "code",
   "execution_count": 6,
   "metadata": {
    "ExecuteTime": {
     "end_time": "2020-05-28T15:49:33.987832Z",
     "start_time": "2020-05-28T15:49:33.874730Z"
    }
   },
   "outputs": [
    {
     "data": {
      "text/plain": [
       "inf"
      ]
     },
     "execution_count": 6,
     "metadata": {},
     "output_type": "execute_result"
    }
   ],
   "source": [
    "x"
   ]
  },
  {
   "cell_type": "markdown",
   "metadata": {},
   "source": [
    "## Cumulative sum of 0 to n."
   ]
  },
  {
   "cell_type": "code",
   "execution_count": 53,
   "metadata": {
    "ExecuteTime": {
     "end_time": "2020-05-28T17:49:04.945881Z",
     "start_time": "2020-05-28T17:49:04.914681Z"
    }
   },
   "outputs": [],
   "source": [
    "def cum_sum(n):\n",
    "    \n",
    "    if n == 0:\n",
    "        return n\n",
    "    else:\n",
    "        return n + cum_sum(n-1)"
   ]
  },
  {
   "cell_type": "code",
   "execution_count": 56,
   "metadata": {
    "ExecuteTime": {
     "end_time": "2020-05-28T17:49:18.912640Z",
     "start_time": "2020-05-28T17:49:18.891040Z"
    }
   },
   "outputs": [
    {
     "data": {
      "text/plain": [
       "15"
      ]
     },
     "execution_count": 56,
     "metadata": {},
     "output_type": "execute_result"
    }
   ],
   "source": [
    "cum_sum(5)"
   ]
  },
  {
   "cell_type": "markdown",
   "metadata": {},
   "source": [
    "## Sum of all digit in a number"
   ]
  },
  {
   "cell_type": "code",
   "execution_count": 69,
   "metadata": {
    "ExecuteTime": {
     "end_time": "2020-05-28T18:04:10.600338Z",
     "start_time": "2020-05-28T18:04:10.584738Z"
    }
   },
   "outputs": [
    {
     "data": {
      "text/plain": [
       "4.23"
      ]
     },
     "execution_count": 69,
     "metadata": {},
     "output_type": "execute_result"
    }
   ],
   "source": [
    "423 / 100"
   ]
  },
  {
   "cell_type": "code",
   "execution_count": 73,
   "metadata": {
    "ExecuteTime": {
     "end_time": "2020-05-28T18:08:20.366273Z",
     "start_time": "2020-05-28T18:08:20.356272Z"
    }
   },
   "outputs": [],
   "source": [
    "def digit_sum(n):\n",
    "    \n",
    "    if n % 10 == n:\n",
    "        return n\n",
    "    else:\n",
    "        return n%10 + digit_sum(n//10)#Classic division"
   ]
  },
  {
   "cell_type": "code",
   "execution_count": 75,
   "metadata": {
    "ExecuteTime": {
     "end_time": "2020-05-28T18:08:33.100200Z",
     "start_time": "2020-05-28T18:08:33.083199Z"
    }
   },
   "outputs": [
    {
     "data": {
      "text/plain": [
       "10"
      ]
     },
     "execution_count": 75,
     "metadata": {},
     "output_type": "execute_result"
    }
   ],
   "source": [
    "digit_sum(4321)"
   ]
  },
  {
   "cell_type": "markdown",
   "metadata": {},
   "source": [
    "## Function which takes string phrase and a list of word. Is it possible to split string in a way which can be made from a list of word."
   ]
  },
  {
   "cell_type": "code",
   "execution_count": 48,
   "metadata": {
    "ExecuteTime": {
     "end_time": "2020-05-29T18:30:12.353318Z",
     "start_time": "2020-05-29T18:30:12.345317Z"
    }
   },
   "outputs": [],
   "source": [
    "sr = 'themanran'\n",
    "lst = ['clown', 'ran', 'man']"
   ]
  },
  {
   "cell_type": "code",
   "execution_count": 41,
   "metadata": {
    "ExecuteTime": {
     "end_time": "2020-05-29T18:22:52.798468Z",
     "start_time": "2020-05-29T18:22:52.794467Z"
    }
   },
   "outputs": [],
   "source": [
    "sr = 'themanran'\n",
    "lst = ['the', 'ran', 'man']"
   ]
  },
  {
   "cell_type": "code",
   "execution_count": 46,
   "metadata": {
    "ExecuteTime": {
     "end_time": "2020-05-29T18:23:06.107913Z",
     "start_time": "2020-05-29T18:23:06.099912Z"
    }
   },
   "outputs": [],
   "source": [
    "sr ='ilovedogsJhon'\n",
    "lst = ['i','am','a','dogs','lover','love','Jhon']"
   ]
  },
  {
   "cell_type": "code",
   "execution_count": 42,
   "metadata": {
    "ExecuteTime": {
     "end_time": "2020-05-29T18:22:54.904559Z",
     "start_time": "2020-05-29T18:22:54.886558Z"
    }
   },
   "outputs": [],
   "source": [
    "def word_split(s, lst):\n",
    "    if len(lst) == 1:        \n",
    "        return s == lst[0]\n",
    "    else:\n",
    "        ele = lst.pop(0)\n",
    "        if ele in s:\n",
    "            s = s.replace(ele,'')            \n",
    "        return word_split(s,lst)        "
   ]
  },
  {
   "cell_type": "code",
   "execution_count": 49,
   "metadata": {
    "ExecuteTime": {
     "end_time": "2020-05-29T18:30:15.522667Z",
     "start_time": "2020-05-29T18:30:15.507067Z"
    }
   },
   "outputs": [
    {
     "data": {
      "text/plain": [
       "False"
      ]
     },
     "execution_count": 49,
     "metadata": {},
     "output_type": "execute_result"
    }
   ],
   "source": [
    "word_split(sr,lst)"
   ]
  },
  {
   "cell_type": "markdown",
   "metadata": {
    "ExecuteTime": {
     "end_time": "2020-05-28T16:45:48.935933Z",
     "start_time": "2020-05-28T16:45:48.904733Z"
    }
   },
   "source": [
    "## Reverse a String"
   ]
  },
  {
   "cell_type": "code",
   "execution_count": 103,
   "metadata": {
    "ExecuteTime": {
     "end_time": "2020-05-28T18:33:53.372999Z",
     "start_time": "2020-05-28T18:33:53.361999Z"
    }
   },
   "outputs": [],
   "source": [
    "def reverse(s):\n",
    "    x = len(s)\n",
    "    new = ''\n",
    "    if x == 1:\n",
    "        return s\n",
    "    else:        \n",
    "        while(x):            \n",
    "            new = new + s[x-1]            \n",
    "            x = x-1\n",
    "    return new       "
   ]
  },
  {
   "cell_type": "code",
   "execution_count": 104,
   "metadata": {
    "ExecuteTime": {
     "end_time": "2020-05-28T18:33:54.274051Z",
     "start_time": "2020-05-28T18:33:54.258050Z"
    }
   },
   "outputs": [
    {
     "data": {
      "text/plain": [
       "'dlroW olleH'"
      ]
     },
     "execution_count": 104,
     "metadata": {},
     "output_type": "execute_result"
    }
   ],
   "source": [
    "reverse('Hello World')"
   ]
  },
  {
   "cell_type": "code",
   "execution_count": 125,
   "metadata": {
    "ExecuteTime": {
     "end_time": "2020-05-28T18:38:19.316645Z",
     "start_time": "2020-05-28T18:38:19.305645Z"
    }
   },
   "outputs": [],
   "source": [
    "def reverse(s):\n",
    "    x = len(s)    \n",
    "    if x <= 1:\n",
    "        return s\n",
    "    else:        \n",
    "        #return reverse(s[1:]) + s[0]\n",
    "        return s[len(s) -1] + reverse(s[:(len(s)-1)])\n",
    "    "
   ]
  },
  {
   "cell_type": "code",
   "execution_count": 126,
   "metadata": {
    "ExecuteTime": {
     "end_time": "2020-05-28T18:38:19.993684Z",
     "start_time": "2020-05-28T18:38:19.976683Z"
    }
   },
   "outputs": [],
   "source": [
    "s = 'hello abhishek'"
   ]
  },
  {
   "cell_type": "code",
   "execution_count": 127,
   "metadata": {
    "ExecuteTime": {
     "end_time": "2020-05-28T18:38:20.539715Z",
     "start_time": "2020-05-28T18:38:20.513714Z"
    }
   },
   "outputs": [
    {
     "data": {
      "text/plain": [
       "'kehsihba olleh'"
      ]
     },
     "execution_count": 127,
     "metadata": {},
     "output_type": "execute_result"
    }
   ],
   "source": [
    "reverse(s)"
   ]
  },
  {
   "cell_type": "markdown",
   "metadata": {},
   "source": [
    "## String Permutation"
   ]
  },
  {
   "cell_type": "markdown",
   "metadata": {},
   "source": [
    "Take input as a string and return all possible out come of words with same length wit each letter as individual entity."
   ]
  },
  {
   "cell_type": "code",
   "execution_count": null,
   "metadata": {},
   "outputs": [],
   "source": [
    "#[s + mystring for s in mylist]"
   ]
  },
  {
   "cell_type": "code",
   "execution_count": 116,
   "metadata": {
    "ExecuteTime": {
     "end_time": "2020-06-02T19:00:54.571115Z",
     "start_time": "2020-06-02T19:00:54.560115Z"
    }
   },
   "outputs": [],
   "source": [
    "def permute(val):    \n",
    "    item = []\n",
    "    if len(val) == 1:\n",
    "        #print(val)        \n",
    "        #item.append(val)\n",
    "        #return item        \n",
    "        return val\n",
    "    else:\n",
    "        for i, let in enumerate(val):\n",
    "            print(i)\n",
    "            print(val[i])\n",
    "            #print(val.replace(val[i],''))            \n",
    "            print(permute(val.replace(val[i],'')))\n",
    "            #print(val[i])\n",
    "            print(let + permute(val.replace(val[i],'')))\n",
    "            \n",
    "\n",
    "            "
   ]
  },
  {
   "cell_type": "code",
   "execution_count": 119,
   "metadata": {
    "ExecuteTime": {
     "end_time": "2020-06-02T19:01:07.761670Z",
     "start_time": "2020-06-02T19:01:07.719470Z"
    }
   },
   "outputs": [
    {
     "name": "stdout",
     "output_type": "stream",
     "text": [
      "0\n",
      "a\n",
      "0\n",
      "b\n",
      "c\n",
      "bc\n",
      "1\n",
      "c\n",
      "b\n",
      "cb\n",
      "None\n",
      "0\n",
      "b\n",
      "c\n",
      "bc\n",
      "1\n",
      "c\n",
      "b\n",
      "cb\n"
     ]
    },
    {
     "ename": "TypeError",
     "evalue": "can only concatenate str (not \"NoneType\") to str",
     "output_type": "error",
     "traceback": [
      "\u001b[1;31m---------------------------------------------------------------------------\u001b[0m",
      "\u001b[1;31mTypeError\u001b[0m                                 Traceback (most recent call last)",
      "\u001b[1;32m<ipython-input-119-fcb26ed777c0>\u001b[0m in \u001b[0;36m<module>\u001b[1;34m()\u001b[0m\n\u001b[1;32m----> 1\u001b[1;33m \u001b[0mp\u001b[0m \u001b[1;33m=\u001b[0m \u001b[0mpermute\u001b[0m\u001b[1;33m(\u001b[0m\u001b[1;34m'abc'\u001b[0m\u001b[1;33m)\u001b[0m\u001b[1;33m\u001b[0m\u001b[0m\n\u001b[0m",
      "\u001b[1;32m<ipython-input-116-41fee6af6d56>\u001b[0m in \u001b[0;36mpermute\u001b[1;34m(val)\u001b[0m\n\u001b[0;32m     13\u001b[0m             \u001b[0mprint\u001b[0m\u001b[1;33m(\u001b[0m\u001b[0mpermute\u001b[0m\u001b[1;33m(\u001b[0m\u001b[0mval\u001b[0m\u001b[1;33m.\u001b[0m\u001b[0mreplace\u001b[0m\u001b[1;33m(\u001b[0m\u001b[0mval\u001b[0m\u001b[1;33m[\u001b[0m\u001b[0mi\u001b[0m\u001b[1;33m]\u001b[0m\u001b[1;33m,\u001b[0m\u001b[1;34m''\u001b[0m\u001b[1;33m)\u001b[0m\u001b[1;33m)\u001b[0m\u001b[1;33m)\u001b[0m\u001b[1;33m\u001b[0m\u001b[0m\n\u001b[0;32m     14\u001b[0m             \u001b[1;31m#print(val[i])\u001b[0m\u001b[1;33m\u001b[0m\u001b[1;33m\u001b[0m\u001b[0m\n\u001b[1;32m---> 15\u001b[1;33m             \u001b[0mprint\u001b[0m\u001b[1;33m(\u001b[0m\u001b[0mlet\u001b[0m \u001b[1;33m+\u001b[0m \u001b[0mpermute\u001b[0m\u001b[1;33m(\u001b[0m\u001b[0mval\u001b[0m\u001b[1;33m.\u001b[0m\u001b[0mreplace\u001b[0m\u001b[1;33m(\u001b[0m\u001b[0mval\u001b[0m\u001b[1;33m[\u001b[0m\u001b[0mi\u001b[0m\u001b[1;33m]\u001b[0m\u001b[1;33m,\u001b[0m\u001b[1;34m''\u001b[0m\u001b[1;33m)\u001b[0m\u001b[1;33m)\u001b[0m\u001b[1;33m)\u001b[0m\u001b[1;33m\u001b[0m\u001b[0m\n\u001b[0m\u001b[0;32m     16\u001b[0m \u001b[1;33m\u001b[0m\u001b[0m\n\u001b[0;32m     17\u001b[0m \u001b[1;33m\u001b[0m\u001b[0m\n",
      "\u001b[1;31mTypeError\u001b[0m: can only concatenate str (not \"NoneType\") to str"
     ]
    }
   ],
   "source": [
    "p = permute('ac')"
   ]
  },
  {
   "cell_type": "code",
   "execution_count": 8,
   "metadata": {
    "ExecuteTime": {
     "end_time": "2020-06-02T17:21:31.469091Z",
     "start_time": "2020-06-02T17:21:31.423491Z"
    }
   },
   "outputs": [
    {
     "data": {
      "text/plain": [
       "['ab']"
      ]
     },
     "execution_count": 8,
     "metadata": {},
     "output_type": "execute_result"
    }
   ],
   "source": [
    "p"
   ]
  },
  {
   "cell_type": "code",
   "execution_count": 4,
   "metadata": {
    "ExecuteTime": {
     "end_time": "2020-06-01T15:11:30.643246Z",
     "start_time": "2020-06-01T15:11:30.623246Z"
    }
   },
   "outputs": [],
   "source": [
    "p.append('c')"
   ]
  },
  {
   "cell_type": "code",
   "execution_count": 5,
   "metadata": {
    "ExecuteTime": {
     "end_time": "2020-06-01T15:11:32.190770Z",
     "start_time": "2020-06-01T15:11:32.165770Z"
    }
   },
   "outputs": [
    {
     "data": {
      "text/plain": [
       "['v', 'c']"
      ]
     },
     "execution_count": 5,
     "metadata": {},
     "output_type": "execute_result"
    }
   ],
   "source": [
    "p"
   ]
  },
  {
   "cell_type": "code",
   "execution_count": 30,
   "metadata": {
    "ExecuteTime": {
     "end_time": "2020-06-02T17:56:29.505396Z",
     "start_time": "2020-06-02T17:56:29.474195Z"
    }
   },
   "outputs": [],
   "source": [
    "s = 'abcdef'"
   ]
  },
  {
   "cell_type": "code",
   "execution_count": 31,
   "metadata": {
    "ExecuteTime": {
     "end_time": "2020-06-02T17:56:30.567105Z",
     "start_time": "2020-06-02T17:56:30.530905Z"
    }
   },
   "outputs": [
    {
     "data": {
      "text/plain": [
       "'c'"
      ]
     },
     "execution_count": 31,
     "metadata": {},
     "output_type": "execute_result"
    }
   ],
   "source": [
    "s[2]"
   ]
  },
  {
   "cell_type": "code",
   "execution_count": 32,
   "metadata": {
    "ExecuteTime": {
     "end_time": "2020-06-02T17:56:31.354315Z",
     "start_time": "2020-06-02T17:56:31.333714Z"
    }
   },
   "outputs": [],
   "source": [
    "l = s.replace(s[2],'')"
   ]
  },
  {
   "cell_type": "code",
   "execution_count": 33,
   "metadata": {
    "ExecuteTime": {
     "end_time": "2020-06-02T17:56:40.825564Z",
     "start_time": "2020-06-02T17:56:40.808064Z"
    }
   },
   "outputs": [
    {
     "name": "stdout",
     "output_type": "stream",
     "text": [
      "5\n"
     ]
    }
   ],
   "source": [
    "print(len(l))"
   ]
  },
  {
   "cell_type": "code",
   "execution_count": 120,
   "metadata": {
    "ExecuteTime": {
     "end_time": "2020-06-02T19:04:01.971390Z",
     "start_time": "2020-06-02T19:04:01.952389Z"
    }
   },
   "outputs": [],
   "source": [
    "def permute(s): \n",
    "    out = []\n",
    "    if len(s) == 1:\n",
    "        #print(val)        \n",
    "        #item.append(val)\n",
    "        #return item        \n",
    "        out = [s]\n",
    "    else:\n",
    "        for i, let in enumerate(s):\n",
    "            \n",
    "            for perm in permute(s[:i]+s[i+1:]):\n",
    "                out += [let + perm]\n",
    "    return out\n",
    "           "
   ]
  },
  {
   "cell_type": "code",
   "execution_count": 121,
   "metadata": {
    "ExecuteTime": {
     "end_time": "2020-06-02T19:04:06.534505Z",
     "start_time": "2020-06-02T19:04:06.515505Z"
    }
   },
   "outputs": [
    {
     "data": {
      "text/plain": [
       "['aba', 'aab', 'baa', 'baa', 'aab', 'aba']"
      ]
     },
     "execution_count": 121,
     "metadata": {},
     "output_type": "execute_result"
    }
   ],
   "source": [
    "n = permute('aba')\n",
    "n"
   ]
  },
  {
   "cell_type": "markdown",
   "metadata": {},
   "source": [
    "## Memoization"
   ]
  },
  {
   "cell_type": "markdown",
   "metadata": {},
   "source": [
    "## Fibonnaci Series"
   ]
  },
  {
   "cell_type": "markdown",
   "metadata": {},
   "source": [
    "### Recursion"
   ]
  },
  {
   "cell_type": "markdown",
   "metadata": {},
   "source": [
    "### Dynamically(Memoization)"
   ]
  },
  {
   "cell_type": "markdown",
   "metadata": {},
   "source": [
    "### Iteratively"
   ]
  },
  {
   "cell_type": "markdown",
   "metadata": {},
   "source": [
    "## Knapsack Problem"
   ]
  },
  {
   "cell_type": "markdown",
   "metadata": {},
   "source": [
    "## Tail Recursion"
   ]
  },
  {
   "cell_type": "code",
   "execution_count": null,
   "metadata": {},
   "outputs": [],
   "source": []
  }
 ],
 "metadata": {
  "kernelspec": {
   "display_name": "Python 3",
   "language": "python",
   "name": "python3"
  },
  "language_info": {
   "codemirror_mode": {
    "name": "ipython",
    "version": 3
   },
   "file_extension": ".py",
   "mimetype": "text/x-python",
   "name": "python",
   "nbconvert_exporter": "python",
   "pygments_lexer": "ipython3",
   "version": "3.7.0"
  },
  "toc": {
   "base_numbering": 1,
   "nav_menu": {},
   "number_sections": true,
   "sideBar": true,
   "skip_h1_title": false,
   "title_cell": "Table of Contents",
   "title_sidebar": "Contents",
   "toc_cell": false,
   "toc_position": {
    "height": "477px",
    "left": "24px",
    "top": "110px",
    "width": "273.188px"
   },
   "toc_section_display": true,
   "toc_window_display": true
  },
  "varInspector": {
   "cols": {
    "lenName": 16,
    "lenType": 16,
    "lenVar": 40
   },
   "kernels_config": {
    "python": {
     "delete_cmd_postfix": "",
     "delete_cmd_prefix": "del ",
     "library": "var_list.py",
     "varRefreshCmd": "print(var_dic_list())"
    },
    "r": {
     "delete_cmd_postfix": ") ",
     "delete_cmd_prefix": "rm(",
     "library": "var_list.r",
     "varRefreshCmd": "cat(var_dic_list()) "
    }
   },
   "types_to_exclude": [
    "module",
    "function",
    "builtin_function_or_method",
    "instance",
    "_Feature"
   ],
   "window_display": false
  }
 },
 "nbformat": 4,
 "nbformat_minor": 2
}
