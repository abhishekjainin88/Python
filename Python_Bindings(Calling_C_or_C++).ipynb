{
 "cells": [
  {
   "cell_type": "markdown",
   "metadata": {},
   "source": [
    "# Python Bindings"
   ]
  },
  {
   "cell_type": "markdown",
   "metadata": {},
   "source": [
    "If we want to use C or C++ library in your Python program. Python Binding allows us to do this.\n",
    "We get strength of both language (C and Python) or (C++ and Python). Below can be cases to use Python Binding.:\n",
    "\n",
    "1)You already have a large, tested, stable library written in C++ that you’d like to take advantage of in Python. This may be a communication library or a library to talk to a specific piece of hardware. What it does is unimportant.\n",
    "\n",
    "2)You want to speed up a particular section of your Python code by converting a critical section to C. Not only does C have faster execution speed, but it also allows you to break free from the limitations of the GIL, provided you’re careful.\n",
    "\n",
    "3)You want to use Python test tools to do large-scale testing of their systems.\n"
   ]
  },
  {
   "cell_type": "markdown",
   "metadata": {},
   "source": [
    "## Marshalling Data Types"
   ]
  },
  {
   "cell_type": "markdown",
   "metadata": {
    "ExecuteTime": {
     "end_time": "2020-05-16T12:03:59.556243Z",
     "start_time": "2020-05-16T12:03:59.543242Z"
    }
   },
   "source": [
    "The process of transforming the memory representation of an object to a data format suitable for storage or transmission.(Wikipedia)\n",
    "\n",
    "1) In C, C++ we store data in a way which is altogether different in Python.(In Python every thing is object even Int)\n",
    "\n",
    "2) Even C and C++ store data in different ways.\n",
    "\n",
    "3) To transfer data between Python and C or C++ we need to perform some operation. This operation is called Marshalling.\n",
    "\n",
    "Marshalling is what the Python bindings are doing when they prepare data to move it from Python to C or vice versa.\n",
    "\n",
    "C stores data in the most compact form in memory possible. If you use an uint8_t, then it will only use 8 bits of memory total.\n",
    "\n",
    "In Python, on the other hand, everything is an object. This means that each integer uses several bytes in memory. How many will depend on which version of Python you’re running, your operating system, and other factors. This means that your Python bindings will need to convert a C integer to a Python integer for each integer passed across the boundary."
   ]
  },
  {
   "cell_type": "markdown",
   "metadata": {},
   "source": [
    "## Understanding Mutable and Immutable Values"
   ]
  },
  {
   "cell_type": "markdown",
   "metadata": {
    "ExecuteTime": {
     "end_time": "2020-05-16T12:26:54.593946Z",
     "start_time": "2020-05-16T12:26:54.575945Z"
    }
   },
   "source": [
    "In C, all parameters are pass-by-value. If you want to allow a function to change a variable in the caller, then you need to pass a pointer to that variable.\n",
    "\n",
    "Python won’t give you a pointer to an object easily, so this just doesn’t work.\n",
    "\n",
    "If you want to modify a Python object in C, then you’ll need to take extra steps to achieve this."
   ]
  },
  {
   "cell_type": "markdown",
   "metadata": {
    "ExecuteTime": {
     "end_time": "2020-05-16T12:28:35.022690Z",
     "start_time": "2020-05-16T12:28:35.002689Z"
    }
   },
   "source": [
    "## Managing Memory"
   ]
  },
  {
   "cell_type": "markdown",
   "metadata": {
    "ExecuteTime": {
     "end_time": "2020-05-16T12:29:22.705215Z",
     "start_time": "2020-05-16T12:29:22.687214Z"
    }
   },
   "source": [
    "C and Python manage memory differently.\n",
    "\n",
    "In C, the developer must manage all memory allocations and ensure they’re freed once and only once. \n",
    "Python takes care of this for you using a garbage collector.\n",
    "\n",
    "We’ll need to be aware of where the memory for each object was allocated and ensure that it’s only freed on the same side. \n",
    "\n",
    "Python data must be cleaned at Python side and C data must be cleaned at C side."
   ]
  },
  {
   "cell_type": "markdown",
   "metadata": {},
   "source": [
    "## ctypes"
   ]
  },
  {
   "cell_type": "markdown",
   "metadata": {},
   "source": [
    "Library in Python to create Python Bindings.\n",
    "\n",
    "It provides a low-level toolset for loading shared libraries and marshalling data between Python and C.\n"
   ]
  },
  {
   "cell_type": "markdown",
   "metadata": {},
   "source": [
    "### Calling the Function"
   ]
  },
  {
   "cell_type": "markdown",
   "metadata": {
    "ExecuteTime": {
     "end_time": "2020-05-16T12:37:23.596699Z",
     "start_time": "2020-05-16T12:37:23.578698Z"
    }
   },
   "source": [
    "To create your Python bindings in ctypes, you need to do these steps:\n",
    "\n",
    "1) Load your library.\n",
    "\n",
    "2) Wrap some of your input parameters.\n",
    "\n",
    "3) Tell ctypes the return type of your function."
   ]
  },
  {
   "cell_type": "markdown",
   "metadata": {},
   "source": [
    "### ctypes Strengths"
   ]
  },
  {
   "cell_type": "markdown",
   "metadata": {},
   "source": [
    "The biggest advantage ctypes has over the other tools you’ll examine here is that it’s built into the standard library.  \n",
    "It also requires no extra steps, as all of the work is done as part of your Python program."
   ]
  },
  {
   "cell_type": "markdown",
   "metadata": {
    "ExecuteTime": {
     "end_time": "2020-05-16T13:14:17.643034Z",
     "start_time": "2020-05-16T13:14:17.631034Z"
    }
   },
   "source": [
    "### ctypes Weakness"
   ]
  },
  {
   "cell_type": "markdown",
   "metadata": {
    "ExecuteTime": {
     "end_time": "2020-05-16T13:15:02.166176Z",
     "start_time": "2020-05-16T13:15:02.149175Z"
    }
   },
   "source": [
    "The concepts used are low-level, which makes exercises like the one you just did manageable.  \n",
    "More complex tasks grow cumbersome with the lack of automation. Here comes CFFI."
   ]
  },
  {
   "cell_type": "markdown",
   "metadata": {},
   "source": [
    "## CFFI"
   ]
  },
  {
   "cell_type": "markdown",
   "metadata": {
    "ExecuteTime": {
     "end_time": "2020-05-16T13:29:57.132865Z",
     "start_time": "2020-05-16T13:29:57.112864Z"
    }
   },
   "source": [
    "CFFI is the C Foreign Function Interface for Python. It takes a more automated approach to generate Python bindings. CFFI has multiple ways in which you can build and use your Python bindings. There are two different options to select from, which gives you four possible modes:\n",
    "\n",
    "ABI vs API: API mode uses a C compiler to generate a full Python module, whereas ABI mode loads the shared library and interacts with it directly. Without running the compiler, getting the structures and parameters correct is error-prone. The documentation heavily recommends using the API mode.\n",
    "\n",
    "in-line vs out-of-line: The difference between these two modes is a trade-off between speed and convenience:\n",
    "\n",
    "In-line mode compiles the Python bindings every time your script runs. This is convenient, as you don’t need an extra build step. It does, however, slow down your program.\n",
    "Out-of-line mode requires an extra step to generate the Python bindings a single time and then uses them each time the program is run. This is much faster, but that may not matter for your application.\n",
    "For this example, you’ll use the API out-of-line mode, which produces the fastest code and, in general, looks similar to other Python bindings you’ll create later in this tutorial."
   ]
  },
  {
   "cell_type": "markdown",
   "metadata": {},
   "source": [
    "### CFFI Strengths"
   ]
  },
  {
   "cell_type": "markdown",
   "metadata": {},
   "source": [
    " CFFI scales to larger projects much better than ctypes due to automation of much of the function wrapping.  \n",
    " ctypes allows you to load a pre-existing C library directly into your Python program. CFFI, on the other hand,    creates a new Python module that can be loaded like other Python modules.  \n",
    " With the out-of-line-API method you used above, the time penalty for creating the Python bindings is done once when you build it and doesn’t happen each time you run your code. For small programs, this might not be a big deal, but CFFI scales better to larger projects in this way, as well."
   ]
  },
  {
   "cell_type": "markdown",
   "metadata": {},
   "source": [
    "### CFFI Weakness"
   ]
  },
  {
   "cell_type": "markdown",
   "metadata": {},
   "source": [
    "ctypes and CFFI Works for C library.  \n",
    "C++ libraries require a good deal of work to use. Here comes PyBind11"
   ]
  },
  {
   "cell_type": "markdown",
   "metadata": {},
   "source": [
    "## PyBind11"
   ]
  },
  {
   "cell_type": "markdown",
   "metadata": {},
   "source": [
    "PyBind11 takes a quite different approach to create Python bindings. In addition to shifting the focus from C to C++, it also uses C++ to specify and build the module, allowing it to take advantage of the metaprogramming tools in C++. Like CFFI, the Python bindings generated from PyBind11 are a full Python module that can be imported and used directly.\n",
    "\n",
    "PyBind11 is modeled after the Boost::Python library and has a similar interface. It restricts its use to C++11 and newer, however, which allows it to simplify and speed things up compared to Boost, which supports everything."
   ]
  },
  {
   "cell_type": "markdown",
   "metadata": {},
   "source": [
    "### PyBind11 Strengths"
   ]
  },
  {
   "cell_type": "markdown",
   "metadata": {
    "ExecuteTime": {
     "end_time": "2020-05-16T13:23:13.808046Z",
     "start_time": "2020-05-16T13:23:13.792045Z"
    }
   },
   "source": [
    "PyBind11 is focused on C++ instead of C  \n",
    "It supports classes. \n",
    "It handles polymorphic subclassing.  \n",
    "It allows you to add dynamic attributes to objects from Python and many other tools, which would be quite difficult to do from the C-based tools(ctypes and CFFI)"
   ]
  },
  {
   "cell_type": "markdown",
   "metadata": {},
   "source": [
    "### PyBind11 Weakness"
   ]
  },
  {
   "cell_type": "markdown",
   "metadata": {
    "ExecuteTime": {
     "end_time": "2020-05-16T13:25:02.628059Z",
     "start_time": "2020-05-16T13:25:02.603057Z"
    }
   },
   "source": [
    "Getting the installation and build correct can be a bit complex.  \n",
    "PyBind11 requires that you use at least C++11 or newer. This is unlikely to be a big restriction for most projects.  \n",
    "The extra code you need to write to create the Python bindings is in C++ and not Python.(Here comes Cython)"
   ]
  },
  {
   "cell_type": "markdown",
   "metadata": {},
   "source": [
    "## Cython"
   ]
  },
  {
   "cell_type": "markdown",
   "metadata": {
    "ExecuteTime": {
     "end_time": "2020-05-16T13:28:23.932948Z",
     "start_time": "2020-05-16T13:28:23.907946Z"
    }
   },
   "source": [
    "The approach Cython takes to creating Python bindings uses a Python-like language to define the bindings and then generates C or C++ code that can be compiled into the module.  \n",
    "There are several methods for building Python bindings with Cython. The most common one is to use setup from distutils."
   ]
  },
  {
   "cell_type": "markdown",
   "metadata": {
    "ExecuteTime": {
     "end_time": "2020-05-16T13:25:50.333581Z",
     "start_time": "2020-05-16T13:25:50.314580Z"
    }
   },
   "source": [
    "### Cython Strengths"
   ]
  },
  {
   "cell_type": "markdown",
   "metadata": {
    "ExecuteTime": {
     "end_time": "2020-05-16T13:27:20.521929Z",
     "start_time": "2020-05-16T13:27:20.506928Z"
    }
   },
   "source": [
    "It provide a deep level of control when creating Python bindings for either C or C++.  \n",
    "It provides a Python-esque method for writing code that manually controls the GIL, which can significantly speed up certain types of problems."
   ]
  },
  {
   "cell_type": "markdown",
   "metadata": {},
   "source": [
    "### Cython Weekness"
   ]
  },
  {
   "cell_type": "markdown",
   "metadata": {
    "ExecuteTime": {
     "end_time": "2020-05-16T13:27:50.183220Z",
     "start_time": "2020-05-16T13:27:50.173219Z"
    }
   },
   "source": [
    "That Python-esque language is not quite Python, however, so there’s a slight learning curve when you’re coming up to speed in figuring out which parts of C and Python fit where."
   ]
  },
  {
   "cell_type": "markdown",
   "metadata": {},
   "source": [
    "## PyBindGen"
   ]
  },
  {
   "cell_type": "markdown",
   "metadata": {},
   "source": [
    "PyBindGen generates Python bindings for C or C++ and is written in Python. It’s targeted at producing readable C or C++ code, which should simplify debugging issues. It wasn’t clear if this has been updated recently, as the documentation lists Python 3.4 as the latest tested version. There have been yearly releases for the last several years, however."
   ]
  },
  {
   "cell_type": "markdown",
   "metadata": {},
   "source": [
    "## Boost.Python"
   ]
  },
  {
   "cell_type": "markdown",
   "metadata": {},
   "source": [
    "Boost.Python has an interface similar to PyBind11, which you saw above. That’s not a coincidence, as PyBind11 was based on this library! Boost.Python is written in full C++ and supports most, if not all, versions of C++ on most platforms. In contrast, PyBind11 restricts itself to modern C++."
   ]
  },
  {
   "cell_type": "markdown",
   "metadata": {},
   "source": [
    "## SIP"
   ]
  },
  {
   "cell_type": "markdown",
   "metadata": {},
   "source": [
    "SIP is a toolset for generating Python bindings that was developed for the PyQt project. It’s also used by the wxPython project to generate their bindings, as well. It has a code generation tool and an extra Python module that provides support functions for the generated code."
   ]
  },
  {
   "cell_type": "markdown",
   "metadata": {},
   "source": [
    "## Cppyy"
   ]
  },
  {
   "cell_type": "markdown",
   "metadata": {},
   "source": [
    "cppyy is an interesting tool that has a slightly different design goal than what you’ve seen so far.\n",
    "\n",
    "The original idea behind cppyy (going back to 2001), was to allow Python programmers that live in a C++ world access to those C++ packages, without having to touch C++ directly (or wait for the C++ developers to come around and provide bindings)."
   ]
  },
  {
   "cell_type": "markdown",
   "metadata": {},
   "source": [
    "## Shiboken"
   ]
  },
  {
   "cell_type": "markdown",
   "metadata": {},
   "source": [
    "\n",
    "Shiboken is a tool for generating Python bindings that’s developed for the PySide project associated with the Qt project. While it was designed as a tool for that project, the documentation indicates that it’s neither Qt- nor PySide-specific and is usable for other projects."
   ]
  },
  {
   "cell_type": "markdown",
   "metadata": {},
   "source": [
    "## SWIG"
   ]
  },
  {
   "cell_type": "markdown",
   "metadata": {},
   "source": [
    "SWIG is a different tool than any of the others listed here. It’s a general tool used to create bindings to C and C++ programs for many other languages, not just Python. This ability to generate bindings for different languages can be quite useful in some projects. It, of course, comes with a cost as far as complexity is concerned."
   ]
  },
  {
   "cell_type": "code",
   "execution_count": null,
   "metadata": {},
   "outputs": [],
   "source": []
  }
 ],
 "metadata": {
  "kernelspec": {
   "display_name": "Python 3",
   "language": "python",
   "name": "python3"
  },
  "language_info": {
   "codemirror_mode": {
    "name": "ipython",
    "version": 3
   },
   "file_extension": ".py",
   "mimetype": "text/x-python",
   "name": "python",
   "nbconvert_exporter": "python",
   "pygments_lexer": "ipython3",
   "version": "3.7.0"
  },
  "toc": {
   "base_numbering": 1,
   "nav_menu": {},
   "number_sections": true,
   "sideBar": true,
   "skip_h1_title": false,
   "title_cell": "Table of Contents",
   "title_sidebar": "Contents",
   "toc_cell": false,
   "toc_position": {
    "height": "calc(100% - 180px)",
    "left": "10px",
    "top": "150px",
    "width": "273.188px"
   },
   "toc_section_display": true,
   "toc_window_display": true
  },
  "varInspector": {
   "cols": {
    "lenName": 16,
    "lenType": 16,
    "lenVar": 40
   },
   "kernels_config": {
    "python": {
     "delete_cmd_postfix": "",
     "delete_cmd_prefix": "del ",
     "library": "var_list.py",
     "varRefreshCmd": "print(var_dic_list())"
    },
    "r": {
     "delete_cmd_postfix": ") ",
     "delete_cmd_prefix": "rm(",
     "library": "var_list.r",
     "varRefreshCmd": "cat(var_dic_list()) "
    }
   },
   "types_to_exclude": [
    "module",
    "function",
    "builtin_function_or_method",
    "instance",
    "_Feature"
   ],
   "window_display": false
  }
 },
 "nbformat": 4,
 "nbformat_minor": 2
}
